{
 "cells": [
  {
   "cell_type": "markdown",
   "id": "39a0c197",
   "metadata": {},
   "source": [
    "# Plan and Execute SRE Agent"
   ]
  },
  {
   "cell_type": "code",
   "execution_count": 4,
   "id": "25cb4701",
   "metadata": {},
   "outputs": [
    {
     "data": {
      "text/plain": [
       "True"
      ]
     },
     "execution_count": 4,
     "metadata": {},
     "output_type": "execute_result"
    }
   ],
   "source": [
    "from dotenv import load_dotenv\n",
    "import os\n",
    "load_dotenv()"
   ]
  },
  {
   "cell_type": "code",
   "execution_count": 5,
   "id": "03f79677",
   "metadata": {},
   "outputs": [],
   "source": [
    "from langchain_openai import ChatOpenAI\n",
    "from langchain_google_genai import ChatGoogleGenerativeAI\n",
    "\n",
    "gpt5 = ChatOpenAI(model=\"gpt-5\")\n",
    "gpt5mini = ChatOpenAI(model=\"gpt-5-mini\")\n",
    "gemini = ChatGoogleGenerativeAI(\n",
    "    model=\"gemini-2.5-flash\",\n",
    "    google_api_key=os.getenv(\"GOOGLEAI_API_KEY\") # Google AI Studio free api key\n",
    ")"
   ]
  },
  {
   "cell_type": "code",
   "execution_count": null,
   "id": "87804d48",
   "metadata": {},
   "outputs": [],
   "source": [
    "from langchain_mcp_adapters.client import MultiServerMCPClient\n",
    "\n",
    "client = MultiServerMCPClient(\n",
    "    {\n",
    "        \"kubernetes\" : {\n",
    "            \"command\": \"npx\",\n",
    "            \"args\": [\"mcp-server-kubernetes\"],\n",
    "            \"transport\": \"stdio\",\n",
    "            \"env\": {\n",
    "                \"ALLOW_ONLY_NON_DESTRUCTIVE_TOOLS\": \"true\"\n",
    "            }\n",
    "        }\n",
    "    }\n",
    ")\n",
    "\n",
    "# NB: The cluster has to be running otherwise the tools won't be available\n",
    "mcp_tools = await client.get_tools()"
   ]
  },
  {
   "cell_type": "code",
   "execution_count": null,
   "id": "d13863dd",
   "metadata": {},
   "outputs": [],
   "source": [
    "# Tools allowed\n",
    "tools_allowed = [\"kubectl_get\", \"kubectl_describe\", \"kubectl_logs\", \"explain_resource\", \"list_api_resources\", \"ping\"]\n",
    "\n",
    "tools = []\n",
    "for tool in mcp_tools:\n",
    "    if tool.name in tools_allowed:\n",
    "        tools.append(tool)\n",
    "\n",
    "for tool in tools:\n",
    "    print(f\"🔧 {tool.name}: {tool.description}\")"
   ]
  },
  {
   "cell_type": "markdown",
   "id": "1b9d5e8c",
   "metadata": {},
   "source": [
    "## Pattern used\n",
    "\n",
    "https://langchain-ai.github.io/langgraph/tutorials/plan-and-execute/plan-and-execute/"
   ]
  },
  {
   "cell_type": "markdown",
   "id": "3bb66521",
   "metadata": {},
   "source": [
    "### Agent executor\n",
    "\n",
    "The agent that executes the commands given by the planner"
   ]
  },
  {
   "cell_type": "code",
   "execution_count": null,
   "id": "cf619cbe",
   "metadata": {},
   "outputs": [],
   "source": [
    "from langgraph.prebuilt import create_react_agent\n",
    "\n",
    "prompt = \"You are a helpful assistant.\"\n",
    "agent_executor = create_react_agent(gpt5mini, tools, prompt=prompt)"
   ]
  },
  {
   "cell_type": "markdown",
   "id": "436bb1c1",
   "metadata": {},
   "source": [
    "### Planner"
   ]
  },
  {
   "cell_type": "code",
   "execution_count": null,
   "id": "e2da1b60",
   "metadata": {},
   "outputs": [],
   "source": [
    "import operator\n",
    "from typing import Annotated, List, Tuple\n",
    "from typing_extensions import TypedDict\n",
    "\n",
    "\n",
    "class PlanExecute(TypedDict):\n",
    "    input: str\n",
    "    plan: List[str]\n",
    "    past_steps: Annotated[List[Tuple], operator.add]\n",
    "    insights: Annotated[List[str], operator.add]\n",
    "    response: str"
   ]
  },
  {
   "cell_type": "code",
   "execution_count": 6,
   "id": "de1f38fd",
   "metadata": {},
   "outputs": [],
   "source": [
    "from pydantic import BaseModel, Field\n",
    "\n",
    "class Plan(BaseModel):\n",
    "    \"\"\"Plan to follow in future\"\"\"\n",
    "\n",
    "    steps: List[str] = Field(\n",
    "        description=\"different steps to follow, should be in sorted order\"\n",
    "    )\n",
    "\n",
    "from pydantic import BaseModel, Field"
   ]
  },
  {
   "cell_type": "code",
   "execution_count": 8,
   "id": "8d3ffe25",
   "metadata": {},
   "outputs": [],
   "source": [
    "planner_prompt = \"\"\"\n",
    "    You are a planning agent. Your goal is to detect anomalies in a deployed service (kubernetes cluster) by decomposing the task into clear, concrete steps.\n",
    "\n",
    "    The service you are working with today is described below:\n",
    "    {app_summary}\n",
    "\n",
    "    Each step must be self-contained and executable by an external executor or by reasoning over previously gathered results.\n",
    "\n",
    "    Guidelines:\n",
    "    - Be concise and avoid unnecessary steps.\n",
    "    - Each step should contain enough detail so it can be executed independently.\n",
    "    - The final step must be an \"analysis\" step that synthesizes the anomaly diagnosis.\n",
    "\"\"\"\n",
    "\n",
    "app_summary = \"\"\"\n",
    "    The application implements a hotel reservation service, build with Go and gRPC, and starting from the open-source project https://github.com/harlow/go-micro-services. The initial project is extended in several ways, including adding back-end in-memory and persistent databases, adding a recommender system for obtaining hotel recommendations, and adding the functionality to place a hotel reservation. \n",
    "\"\"\""
   ]
  },
  {
   "cell_type": "code",
   "execution_count": 19,
   "id": "1006b01c",
   "metadata": {},
   "outputs": [],
   "source": [
    "from langgraph.graph import MessagesState\n",
    "from langchain_core.messages import HumanMessage, SystemMessage\n",
    "\n",
    "planner_llm_configured = gpt5mini.with_structured_output(Plan)\n",
    "\n",
    "async def planner():\n",
    "    return planner_llm_configured.invoke([planner_prompt.format(app_summary=app_summary)])"
   ]
  },
  {
   "cell_type": "markdown",
   "id": "ea8f1529",
   "metadata": {},
   "source": [
    "### Re-Planner"
   ]
  },
  {
   "cell_type": "code",
   "execution_count": null,
   "id": "92ce04c5",
   "metadata": {},
   "outputs": [],
   "source": []
  }
 ],
 "metadata": {
  "kernelspec": {
   "display_name": "sre-agent-QNf2KdVb-py3.13",
   "language": "python",
   "name": "python3"
  },
  "language_info": {
   "codemirror_mode": {
    "name": "ipython",
    "version": 3
   },
   "file_extension": ".py",
   "mimetype": "text/x-python",
   "name": "python",
   "nbconvert_exporter": "python",
   "pygments_lexer": "ipython3",
   "version": "3.13.7"
  }
 },
 "nbformat": 4,
 "nbformat_minor": 5
}
