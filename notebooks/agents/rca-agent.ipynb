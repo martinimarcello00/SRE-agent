{
 "cells": [
  {
   "cell_type": "markdown",
   "id": "0abb4d74",
   "metadata": {},
   "source": [
    "# RCA Agent\n",
    "\n",
    "The RCA agents take as input the affected resource, the symptom discovered by the triage agent and perform the Root Cause Analysis."
   ]
  },
  {
   "cell_type": "code",
   "execution_count": 1,
   "id": "1c93bd1b",
   "metadata": {},
   "outputs": [
    {
     "data": {
      "text/plain": [
       "True"
      ]
     },
     "execution_count": 1,
     "metadata": {},
     "output_type": "execute_result"
    }
   ],
   "source": [
    "from dotenv import load_dotenv\n",
    "import os\n",
    "# Get the path to the root directory of the repository\n",
    "root_dir = os.path.abspath(os.path.join(os.getcwd(), '../..'))\n",
    "\n",
    "# Load environment variables from .env file in the root directory\n",
    "load_dotenv(os.path.join(root_dir, '.env'), verbose=True)"
   ]
  },
  {
   "cell_type": "code",
   "execution_count": 2,
   "id": "cf7af905",
   "metadata": {},
   "outputs": [],
   "source": [
    "import sys\n",
    "\n",
    "# Add MCP-server to path\n",
    "mcp_server_path = os.path.abspath(os.path.join(os.getcwd(), '../../MCP-server'))\n",
    "sys.path.insert(0, mcp_server_path)"
   ]
  },
  {
   "cell_type": "markdown",
   "id": "24889732",
   "metadata": {},
   "source": [
    "## MCP Server\n",
    "\n",
    "List of available MCP servers:\n",
    "- kubectl: provides an interface for the kubernetes cli\n",
    "- cluster_api: custom MCP server developed to interact with the cluster and see dependencies, traces and metrics\n"
   ]
  },
  {
   "cell_type": "code",
   "execution_count": 3,
   "id": "e56e6afb",
   "metadata": {},
   "outputs": [],
   "source": [
    "from langchain_mcp_adapters.client import MultiServerMCPClient\n",
    "\n",
    "mcp_client = MultiServerMCPClient(\n",
    "    {\n",
    "        \"kubernetes\" : {\n",
    "            \"command\": \"npx\",\n",
    "            \"args\": [\"mcp-server-kubernetes\"],\n",
    "            \"transport\": \"stdio\",\n",
    "            \"env\": {\n",
    "                \"ALLOW_ONLY_NON_DESTRUCTIVE_TOOLS\": \"true\"\n",
    "            }\n",
    "        },\n",
    "        \"cluster_api\" : {\n",
    "            \"url\": \"http://localhost:8000/mcp\",\n",
    "            \"transport\": \"streamable_http\"\n",
    "        }\n",
    "    }\n",
    ")\n",
    "\n",
    "mcp_tools = await mcp_client.get_tools()"
   ]
  },
  {
   "cell_type": "code",
   "execution_count": 4,
   "id": "1fdc0516",
   "metadata": {},
   "outputs": [],
   "source": [
    "# Tools allowed\n",
    "k8s_tools_allowed = [\"kubectl_get\", \"kubectl_describe\", \"explain_resource\", \"list_api_resources\", \"ping\"]\n",
    "custom_tools_allowed = [\"get_metrics\", \"get_metrics_range\", \"get_pods_from_service\", \"get_cluster_pods_and_services\", \"get_services_used_by\", \"get_dependencies\", \"get_logs\", \"get_traces\", \"get_trace\"]\n",
    "\n",
    "tools_allowed = k8s_tools_allowed + custom_tools_allowed\n",
    "\n",
    "tools = []\n",
    "for tool in mcp_tools:\n",
    "    if tool.name in tools_allowed:\n",
    "        tools.append(tool)"
   ]
  },
  {
   "cell_type": "code",
   "execution_count": 5,
   "id": "cd72fb3e",
   "metadata": {},
   "outputs": [
    {
     "name": "stdout",
     "output_type": "stream",
     "text": [
      "🔧 kubectl_get: Get or list Kubernetes resources by resource type, name, and optionally namespace\n",
      "🔧 kubectl_describe: Describe Kubernetes resources by resource type, name, and optionally namespace\n",
      "🔧 explain_resource: Get documentation for a Kubernetes resource or field\n",
      "🔧 list_api_resources: List the API resources available in the cluster\n",
      "🔧 ping: Verify that the counterpart is still responsive and the connection is alive.\n",
      "🔧 get_metrics: Retrieve all instant Prometheus metrics for a specific Kubernetes pod or service. Returns comprehensive metrics including CPU, memory, network, and container specifications.\n",
      "🔧 get_metrics_range: Retrieve historical Prometheus metrics for a specific Kubernetes pod or service over a time range.\n",
      "🔧 get_pods_from_service: Retrieve all Kubernetes pods that belong to a specific service. Returns pod names and their current status (Running, Pending, etc.).\n",
      "🔧 get_cluster_pods_and_services: Get a comprehensive overview of the Kubernetes cluster including all pods and services. Returns counts and complete lists for cluster analysis.\n",
      "🔧 get_services_used_by: Return all the services that are used by the given service to complete its tasks. This shows the service dependency chain - which services the target service calls to fulfill requests.\n",
      "🔧 get_dependencies: Retrieves all dependencies for a specified service from kubernetes cluster. Dependencies include databases and other infrastructure components.\n",
      "🔧 get_logs: Retrieve logs from a Kubernetes pod or service with optional filtering for important messages.\n",
      "🔧 get_traces: Retrieve traces for a specific service, with an option to filter for traces that contain errors. Returns a list of traces, each containing: traceID (unique trace identifier), latency_ms (total trace duration in milliseconds), has_error (boolean indicating if the trace contains errors), and sequence (string showing the service call chain, e.g., 'serviceA -> serviceB -> serviceC').\n",
      "🔧 get_trace: Retrieve detailed information for a specific trace by its trace ID. Returns the complete trace with all spans, including service names, operation names, timestamps, durations, tags, and any errors.\n"
     ]
    }
   ],
   "source": [
    "for tool in tools:\n",
    "    print(f\"🔧 {tool.name}: {tool.description}\")"
   ]
  },
  {
   "cell_type": "markdown",
   "id": "8c6105af",
   "metadata": {},
   "source": [
    "## Build the agent"
   ]
  },
  {
   "cell_type": "code",
   "execution_count": 6,
   "id": "48235e4f",
   "metadata": {},
   "outputs": [],
   "source": [
    "from langchain_openai import ChatOpenAI\n",
    "\n",
    "gpt5mini = ChatOpenAI(model=\"gpt-5-mini\")"
   ]
  },
  {
   "cell_type": "code",
   "execution_count": 7,
   "id": "1fa5253e",
   "metadata": {},
   "outputs": [],
   "source": [
    "from pydantic import BaseModel, Field\n",
    "from typing import TypedDict, Literal, Annotated\n",
    "import operator\n",
    "\n",
    "\n",
    "class Symptom(BaseModel):\n",
    "    \"\"\"\n",
    "    A symptom observed in the Kubernetes cluster\n",
    "    \"\"\"\n",
    "    potential_symptom: str = Field(..., description=\"Type of symptom observed\")\n",
    "    resource_type: Literal[\"pod\", \"service\"] = Field(..., description=\"Type of resource experiencing the issue\")\n",
    "    affected_resource: str = Field(..., description=\"Name of the resource experiencing the issue\")\n",
    "    evidence: str = Field(..., description=\"Evidence supporting this symptom identification\")"
   ]
  },
  {
   "cell_type": "code",
   "execution_count": 8,
   "id": "553c1688",
   "metadata": {},
   "outputs": [],
   "source": [
    "from typing import List\n",
    "from langgraph.graph.message import add_messages, AnyMessage\n",
    "\n",
    "\n",
    "class RcaAgentState(TypedDict):\n",
    "    messages: Annotated[list[AnyMessage], add_messages]\n",
    "    app_summary: str\n",
    "    symptom: Symptom\n",
    "    insights: Annotated[list[str], operator.add]\n",
    "    prev_steps: Annotated[list[str], operator.add]\n",
    "    rca_analysis: dict"
   ]
  },
  {
   "cell_type": "code",
   "execution_count": 9,
   "id": "6219ced2",
   "metadata": {},
   "outputs": [],
   "source": [
    "class UpdateAgentData(BaseModel):\n",
    "    \"\"\"\n",
    "    Represents a step performed by the SRE agent.\n",
    "    \"\"\"\n",
    "    insight: str = Field(..., description=\"Most important new finding\")\n",
    "    prev_step: str = Field(..., description=\"Concise description of the most recent action taken\")"
   ]
  },
  {
   "cell_type": "code",
   "execution_count": 10,
   "id": "08f4a921",
   "metadata": {},
   "outputs": [],
   "source": [
    "rca_agent_prompt = \"\"\"\n",
    "    You are an expert DevOps engineer who has been tasked with performing Root Cause Analysis (RCA) on a Kubernetes service.\n",
    "\n",
    "    The service you are working with today is described below:\n",
    "    {app_summary}\n",
    "\n",
    "    A symptom has been detected in the cluster:\n",
    "    - **Symptom Type**: {symptom_type}\n",
    "    - **Affected Resource**: {resource_type} named '{affected_resource}'\n",
    "    - **Evidence**: {evidence}\n",
    "\n",
    "    You will use tools to investigate this symptom and identify the root cause.\n",
    "\n",
    "    Available investigation approaches:\n",
    "    - Use kubectl tools to inspect resource states, configurations, and events\n",
    "    - Use observability tools (metrics, logs, traces) to analyze runtime behavior\n",
    "    - Use get_dependencies or get_services_used_by to discover:\n",
    "      * Infrastructure dependencies (databases, caches, message queues)\n",
    "      * Service-to-service call chains (which services are called by a pod/service)\n",
    "\n",
    "    Context:\n",
    "\n",
    "    *Previous Steps:*\n",
    "    {prev_steps}\n",
    "\n",
    "    *Insights:*\n",
    "    {insights}\n",
    "\n",
    "    Your task:\n",
    "        1. Start your investigation from the symptom above - analyze the affected resource.\n",
    "        2. Follow the evidence trail to identify the underlying root cause\n",
    "        3. When you have identified the root cause, call the submit_final_diagnosis tool with:\n",
    "            - diagnosis: Describe the root cause you have identified (without proposing fixes)\n",
    "            - reasoning: Explain your reasoning and thought process behind the diagnosis\n",
    "\n",
    "    IMPORTANT: You must call submit_final_diagnosis when you're ready to conclude your investigation.\n",
    "\"\"\""
   ]
  },
  {
   "cell_type": "code",
   "execution_count": 11,
   "id": "cfa3b311",
   "metadata": {},
   "outputs": [],
   "source": [
    "summarise_prompt = \"\"\"\n",
    "    You are an autonomous SRE agent performing Root Cause Analysis on a Kubernetes incident.\n",
    "\n",
    "    Context:\n",
    "\n",
    "    Previous Insights: \n",
    "    {insights}\n",
    "    \n",
    "    Previous Steps:\n",
    "    {prev_steps}\n",
    "\n",
    "    Below are the latest two messages (tool call and response):\n",
    "    {last_two_messages}\n",
    "\n",
    "    Instructions:\n",
    "    1. **Extract the key insight**: Identify the most important NEW finding from the tool response that helps diagnose the root cause. Focus on:\n",
    "       - Anomalies or unusual patterns\n",
    "       - Resource states that could cause issues\n",
    "       - Dependencies or relationships discovered\n",
    "       - Error messages or failure indicators\n",
    "       If the tool call failed or returned no useful data, note this as the insight.\n",
    "    \n",
    "    2. **Describe the action taken**: Write a concise description of what tool was just called and what resource it examined.\n",
    "       Format: \"Checked [resource/metric] using [tool_name]\"\n",
    "\n",
    "    Keep both responses under 100 characters each. Be specific and actionable.\n",
    "\"\"\""
   ]
  },
  {
   "cell_type": "code",
   "execution_count": 12,
   "id": "90221147",
   "metadata": {},
   "outputs": [],
   "source": [
    "def get_insights_str(state):\n",
    "    \"\"\"Return a string with the formatted list of insights gathered during exploration\"\"\"\n",
    "    if len(state[\"insights\"]) > 0:\n",
    "        return \"\\n- \".join([\"\"] + state[\"insights\"])\n",
    "    else:\n",
    "        return \"No insights yet\"\n",
    "    \n",
    "def get_prev_steps_str(state):\n",
    "    \"\"\"Return a string with the formatted list of previous steps performed during exploration\"\"\"\n",
    "    if len(state[\"prev_steps\"]) > 0:\n",
    "        return \"\\n- \".join([\"\"] + state[\"prev_steps\"])\n",
    "    else:\n",
    "        return \"No previous steps yet\""
   ]
  },
  {
   "cell_type": "code",
   "execution_count": 13,
   "id": "c1b850a0",
   "metadata": {},
   "outputs": [],
   "source": [
    "llm_with_strct_output = gpt5mini.with_structured_output(UpdateAgentData)"
   ]
  },
  {
   "cell_type": "code",
   "execution_count": 14,
   "id": "50db0573",
   "metadata": {},
   "outputs": [],
   "source": [
    "from langchain_core.messages import HumanMessage\n",
    "\n",
    "# Node used to summarise the infos given the two previous messages\n",
    "async def summarise(state: RcaAgentState):\n",
    "\n",
    "    # Gather last two messages (tool call + tool response)\n",
    "    last_messages = state[\"messages\"][-2:]\n",
    "\n",
    "    insights_str = get_insights_str(state)\n",
    "    prev_step_str = get_prev_steps_str(state)\n",
    "\n",
    "    prompt = HumanMessage(content=summarise_prompt.format(\n",
    "        prev_steps = prev_step_str,\n",
    "        insights=insights_str,\n",
    "        last_two_messages=last_messages))\n",
    "\n",
    "    data = llm_with_strct_output.invoke([prompt])\n",
    "\n",
    "    return {\"insights\" : [data.insight], \"prev_steps\" : [data.prev_step]} #type: ignore"
   ]
  },
  {
   "cell_type": "code",
   "execution_count": 15,
   "id": "e11ad610",
   "metadata": {},
   "outputs": [],
   "source": [
    "from typing import Annotated\n",
    "from langgraph.types import Command\n",
    "from langchain_core.messages import ToolMessage\n",
    "from langchain_core.tools import tool, InjectedToolCallId\n",
    "\n",
    "# Tool used to submit the final response\n",
    "@tool\n",
    "def submit_final_diagnosis(\n",
    "    diagnosis: str, \n",
    "    reasoning: str,\n",
    "    tool_call_id: Annotated[str, InjectedToolCallId]\n",
    ") -> Command:\n",
    "    \"\"\"\n",
    "    Submit the final diagnosis when investigation is complete.\n",
    "    \n",
    "    Args:\n",
    "        diagnosis: The issue you have identified (without fixing it)\n",
    "        reasoning: Your reasoning and thought process behind the diagnosis (keep it concise)\n",
    "    \n",
    "    Returns:\n",
    "        Command to update state and end workflow\n",
    "    \"\"\"\n",
    "    final_response = {\n",
    "        \"diagnosis\" : diagnosis,\n",
    "        \"reasoning\" : reasoning\n",
    "    }\n",
    "    \n",
    "    return Command(\n",
    "        update={\n",
    "            \"rca_analysis\": final_response,\n",
    "            \"messages\": [\n",
    "                ToolMessage(\n",
    "                    content=\"Final diagnosis submitted successfully. Investigation complete.\",\n",
    "                    tool_call_id=tool_call_id\n",
    "                )\n",
    "            ]\n",
    "        },\n",
    "        goto=\"format-output\" # End the loop cycle\n",
    "    )"
   ]
  },
  {
   "cell_type": "code",
   "execution_count": 16,
   "id": "a3e04245",
   "metadata": {},
   "outputs": [],
   "source": [
    "# Append the tool for submission to the list of tools (MCP servers)\n",
    "completion_tool = submit_final_diagnosis\n",
    "tools_with_completion = tools + [completion_tool]"
   ]
  },
  {
   "cell_type": "code",
   "execution_count": 17,
   "id": "bdc53573",
   "metadata": {},
   "outputs": [],
   "source": [
    "async def rcaAgent(state: RcaAgentState):\n",
    "\n",
    "    insights_str = get_insights_str(state)\n",
    "    prev_step_str = get_prev_steps_str(state)\n",
    "\n",
    "    prompt = HumanMessage(content=rca_agent_prompt.format(\n",
    "        prev_steps=prev_step_str, \n",
    "        insights=insights_str, \n",
    "        app_summary=state[\"app_summary\"],\n",
    "        symptom_type=state[\"symptom\"].potential_symptom,\n",
    "        resource_type=state[\"symptom\"].resource_type,\n",
    "        affected_resource=state[\"symptom\"].affected_resource,\n",
    "        evidence=state[\"symptom\"].evidence\n",
    "    ))\n",
    "\n",
    "    llm_with_completion_tools = gpt5mini.bind_tools(tools_with_completion, parallel_tool_calls=False)\n",
    "    return {\"messages\": [llm_with_completion_tools.invoke([prompt])]}"
   ]
  },
  {
   "cell_type": "code",
   "execution_count": 18,
   "id": "3e1c290e",
   "metadata": {},
   "outputs": [],
   "source": [
    "from langchain_core.messages import AIMessage\n",
    "from collections import Counter\n",
    "\n",
    "def count_tool_calls(messages):\n",
    "    \"\"\"\n",
    "    Plots a bar chart of tool call occurrences by tool name from state['messages'].\n",
    "    \"\"\"\n",
    "    # Extract tool names from ToolMessage objects\n",
    "    tool_calls = []\n",
    "    for msg in messages:\n",
    "\n",
    "        if isinstance(msg, AIMessage):\n",
    "            if hasattr(msg, 'additional_kwargs'):\n",
    "                if \"tool_calls\" in msg.additional_kwargs:\n",
    "                    for call in msg.additional_kwargs['tool_calls']:\n",
    "                        if \"function\" in call:\n",
    "                            if \"name\" in call[\"function\"]:\n",
    "                                tool_calls.append(call[\"function\"][\"name\"])\n",
    "\n",
    "    # Count occurrences\n",
    "    counts = Counter(tool_calls)\n",
    "\n",
    "    return dict(counts)"
   ]
  },
  {
   "cell_type": "code",
   "execution_count": 19,
   "id": "4739e225",
   "metadata": {},
   "outputs": [],
   "source": [
    "async def format_response(state: RcaAgentState):\n",
    "\n",
    "    final_report = state[\"rca_analysis\"]\n",
    "    \n",
    "    final_report[\"symptom\"] = {\n",
    "        \"potential_symptom\" : state[\"symptom\"].potential_symptom,\n",
    "        \"resource_type\" : state[\"symptom\"].resource_type,\n",
    "        \"affected_resource\" : state[\"symptom\"].affected_resource,\n",
    "        \"evidence\" : state[\"symptom\"].evidence\n",
    "    }\n",
    "    \n",
    "    final_report[\"insights\"] = state[\"insights\"]\n",
    "    final_report[\"steps_performed\"] = state[\"prev_steps\"]\n",
    "    final_report[\"tools_stats\"] = count_tool_calls(state[\"messages\"])\n",
    "\n",
    "    return {\"rca_analysis\" : final_report}"
   ]
  },
  {
   "cell_type": "code",
   "execution_count": 20,
   "id": "7997d7c6",
   "metadata": {},
   "outputs": [
    {
     "data": {
      "image/png": "[encoded data removed]",
      "text/plain": [
       "<IPython.core.display.Image object>"
      ]
     },
     "metadata": {},
     "output_type": "display_data"
    }
   ],
   "source": [
    "from langgraph.graph import START, END, StateGraph\n",
    "from langgraph.prebuilt import tools_condition, ToolNode\n",
    "from IPython.display import Image, display\n",
    "\n",
    "# Build the graph\n",
    "builder = StateGraph(RcaAgentState)\n",
    "\n",
    "# Add nodes\n",
    "builder.add_node(\"rca-agent\", rcaAgent)\n",
    "builder.add_node(\"tools\", ToolNode(tools_with_completion)) # Tool node is executing the tool called in the previous message\n",
    "builder.add_node(\"summarise\", summarise) # Node to reduce the raw data into a schema\n",
    "builder.add_node(\"format-output\", format_response)\n",
    "\n",
    "# Add edges\n",
    "builder.add_edge(START, \"rca-agent\")\n",
    "\n",
    "# Conditional edge from sre-agent\n",
    "builder.add_conditional_edges(\n",
    "    \"rca-agent\",\n",
    "    # Use in the conditional_edge to route to the ToolNode if the last message has tool calls. Otherwise, route to the end.\n",
    "    tools_condition,\n",
    ")\n",
    "\n",
    "# After tools, decide whether to summarise or end\n",
    "def after_tools_condition(state: RcaAgentState):\n",
    "    # If rca analysis is filled, investigation is complete (end of the workflow)\n",
    "    if state.get(\"rca_analysis\") and \"diagnosis\" in state[\"rca_analysis\"] and \"reasoning\" in state[\"rca_analysis\"]:\n",
    "        return \"format-output\"\n",
    "    return \"summarise\"\n",
    "\n",
    "builder.add_conditional_edges(\n",
    "    \"tools\",\n",
    "    after_tools_condition,\n",
    "    {\n",
    "        \"summarise\": \"summarise\",\n",
    "        \"format-output\": \"format-output\"\n",
    "    }\n",
    ")\n",
    "\n",
    "# After summarise, continue investigation (go to rca-agent)\n",
    "builder.add_edge(\"summarise\", \"rca-agent\")\n",
    "builder.add_edge(\"format-output\", END)\n",
    "\n",
    "# Compile the graph\n",
    "structured_graph = builder.compile()\n",
    "\n",
    "# Show the graph\n",
    "display(Image(structured_graph.get_graph(xray=True).draw_mermaid_png()))"
   ]
  },
  {
   "cell_type": "code",
   "execution_count": 21,
   "id": "f735a582",
   "metadata": {},
   "outputs": [],
   "source": [
    "import time\n",
    "\n",
    "async def test_structured_graph(graph, app_summary:str, symptom: Symptom, human_message: str = \"\", trace_name: str | None = None):\n",
    "    \"\"\"Test the structured graph with SREAgentState\"\"\"\n",
    "    # Create initial state with SREAgentState structure\n",
    "    initial_state = {\n",
    "        \"messages\": [HumanMessage(content=human_message)] if human_message else [],\n",
    "        \"symptom\" : symptom,\n",
    "        \"insights\": [],\n",
    "        \"prev_steps\": [],\n",
    "        \"rca_analysis\" : {},\n",
    "        \"app_summary\" : app_summary\n",
    "    }\n",
    "    \n",
    "    # Start time tracking\n",
    "    start_time = time.time()\n",
    "\n",
    "    # Configuration for the graph execution\n",
    "    config = {\"recursion_limit\": 50}\n",
    "    if trace_name:\n",
    "        config[\"run_name\"] = trace_name # type: ignore\n",
    "    \n",
    "    # Invoke the graph asynchronously\n",
    "    result = await graph.ainvoke(initial_state, config)\n",
    "\n",
    "    # Calculate execution time\n",
    "    execution_time = time.time() - start_time\n",
    "\n",
    "    return result"
   ]
  },
  {
   "cell_type": "code",
   "execution_count": 22,
   "id": "f17f3ea8",
   "metadata": {},
   "outputs": [],
   "source": [
    "experiment_name = input(\"Enter experiment name: \")\n",
    "\n",
    "if experiment_name.strip() == \"\":\n",
    "    experiment_name = \"RCA agent\""
   ]
  },
  {
   "cell_type": "code",
   "execution_count": 23,
   "id": "03a950f9",
   "metadata": {},
   "outputs": [],
   "source": [
    "app_summary = \"\"\"\n",
    "    The application implements a hotel reservation service, build with Go and gRPC. The initial project is extended in several ways, including adding back-end in-memory and persistent databases, adding a recommender system for obtaining hotel recommendations, and adding the functionality to place a hotel reservation. \n",
    "\"\"\""
   ]
  },
  {
   "cell_type": "code",
   "execution_count": 24,
   "id": "2ea1415d",
   "metadata": {},
   "outputs": [],
   "source": [
    "symptom = Symptom(\n",
    "    potential_symptom= \"Container CrashLoopBackOff (restarting failure)\",\n",
    "    resource_type=\"pod\",\n",
    "    affected_resource=\"geo-6b4b89b5f5-wr9h2\",\n",
    "    evidence=\"Namespace=test-hotel-reservation, pod_phase=Running, container=hotel-reserv-geo, issue_type=Waiting, reason=CrashLoopBackOff, message='back-off 2m40s restarting failed container=hotel-reserv-geo pod=geo-6b4b89b5f5-wr9h2_test-hotel-reservation(...)', restart_count=5\"\n",
    ")"
   ]
  },
  {
   "cell_type": "code",
   "execution_count": null,
   "id": "bae33efd",
   "metadata": {},
   "outputs": [],
   "source": [
    "human = \"\"\n",
    "rca_agent_output = await test_structured_graph(structured_graph, app_summary, symptom, trace_name=experiment_name)"
   ]
  },
  {
   "cell_type": "code",
   "execution_count": 28,
   "id": "53260442",
   "metadata": {},
   "outputs": [
    {
     "data": {
      "text/plain": [
       "{'diagnosis': 'The geo service container crashes because it cannot reach its MongoDB dependency: the geo app is configured to connect to mongodb-geo on port 27777, but the MongoDB pod/service is listening on port 27017. This port mismatch causes connection failures (panic: \"no reachable servers\") during startup, leading to repeated crashes and CrashLoopBackOff.',\n",
       " 'reasoning': 'Evidence chain:\\n- Pod geo-6b4b89b5f5-wr9h2 shows CrashLoopBackOff with RestartCount high and container exit code 2.\\n- Application logs show panic: \"no reachable servers\" indicating DB unreachable at startup.\\n- mongodb-geo pod (mongodb-geo-5ff578bcb8-r7vl6) is Running and its logs show it accepted connections (authenticated conn from 10.244.1.13), so MongoDB itself is healthy.\\n- Endpoints for mongodb-geo list the pod at 10.244.1.14:27017 — MongoDB listens on 27017.\\n- The geo application is observed to attempt connections to mongodb-geo:27777 (from previous investigation), which does not match the endpoint port.\\nConclusion: geo fails to connect due to a configuration/port mismatch (27777 vs 27017), causing the startup panic and CrashLoopBackOff.',\n",
       " 'symptom': {'potential_symptom': 'Container CrashLoopBackOff (restarting failure)',\n",
       "  'resource_type': 'pod',\n",
       "  'affected_resource': 'geo-6b4b89b5f5-wr9h2',\n",
       "  'evidence': \"Namespace=test-hotel-reservation, pod_phase=Running, container=hotel-reserv-geo, issue_type=Waiting, reason=CrashLoopBackOff, message='back-off 2m40s restarting failed container=hotel-reserv-geo pod=geo-6b4b89b5f5-wr9h2_test-hotel-reservation(...)', restart_count=5\"},\n",
       " 'insights': ['Container in CrashLoopBackOff (Exit Code 2); RestartCount=29; back-off restarting',\n",
       "  \"App panicked: 'panic: no reachable servers' — DB unreachable during startup\",\n",
       "  'geo depends on mongodb-geo (Database); DB unreachability likely cause',\n",
       "  'mongodb-geo pod mongodb-geo-5ff578bcb8-r7vl6 is Running',\n",
       "  'MongoDB pod up; accepted connections and authenticated (conn from 10.244.1.13)',\n",
       "  'mongodb-geo endpoint present: pod mongodb-geo-5ff578bcb8-r7vl6 at 10.244.1.14:27017',\n",
       "  'geo connects to mongodb-geo:27777; MongoDB endpoint listens on :27017 — port mismatch'],\n",
       " 'steps_performed': ['Checked pod geo-6b4b89b5f5-wr9h2 using kubectl_describe',\n",
       "  'Checked pod geo-6b4b89b5f5-wr9h2 using get_logs',\n",
       "  \"Checked service 'geo' dependencies using get_dependencies\",\n",
       "  'Checked pods of service mongodb-geo using get_pods_from_service',\n",
       "  'Checked logs of mongodb-geo-5ff578bcb8-r7vl6 using get_logs',\n",
       "  \"Checked Endpoints 'mongodb-geo' using kubectl_get\",\n",
       "  'Checked pod geo-6b4b89b5f5-wr9h2 logs using get_logs'],\n",
       " 'tools_stats': {'kubectl_describe': 1,\n",
       "  'get_logs': 3,\n",
       "  'get_dependencies': 1,\n",
       "  'get_pods_from_service': 1,\n",
       "  'kubectl_get': 1,\n",
       "  'submit_final_diagnosis': 1}}"
      ]
     },
     "execution_count": 28,
     "metadata": {},
     "output_type": "execute_result"
    }
   ],
   "source": [
    "rca_agent_output[\"rca_analysis\"]"
   ]
  }
 ],
 "metadata": {
  "kernelspec": {
   "display_name": "sre-agent-35UqMg2y-py3.13",
   "language": "python",
   "name": "python3"
  },
  "language_info": {
   "codemirror_mode": {
    "name": "ipython",
    "version": 3
   },
   "file_extension": ".py",
   "mimetype": "text/x-python",
   "name": "python",
   "nbconvert_exporter": "python",
   "pygments_lexer": "ipython3",
   "version": "3.13.7"
  }
 },
 "nbformat": 4,
 "nbformat_minor": 5
}
