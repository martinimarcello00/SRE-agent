{
 "cells": [
  {
   "cell_type": "markdown",
   "id": "01d29ce4",
   "metadata": {},
   "source": [
    "# Triage Agent\n",
    "\n",
    "Gather a high-level overview of the cluster's health and identify potential problem areas."
   ]
  },
  {
   "cell_type": "markdown",
   "id": "52cdd360",
   "metadata": {},
   "source": [
    "## Deterministic data gathering\n",
    "\n",
    "- **Pod Status Check**:\n",
    "    - `Tool`: `K8sAPI.get_problematic_pods()`\n",
    "    - `Output`: Pods with pending states, container errors, high restarts (>3)\n",
    "- **Trace Analysis**:\n",
    "    - `Tool`: `JaegerAPI.get_processed_traces()` and `JaegerAPI.get_slow_traces()`\n",
    "    - `Output`: Traces with errors or high latency, including service sequences\n",
    "- **Metrics Analysis**:\n",
    "    - `Tool`: `PrometheusAPI.get_pod_triage_metrics()`\n",
    "    - `Output`: Pods with thread saturation (>95%), high CPU load (>10.0), or network errors"
   ]
  },
  {
   "cell_type": "code",
   "execution_count": 1,
   "id": "d6e9a959",
   "metadata": {},
   "outputs": [
    {
     "data": {
      "text/plain": [
       "True"
      ]
     },
     "execution_count": 1,
     "metadata": {},
     "output_type": "execute_result"
    }
   ],
   "source": [
    "from dotenv import load_dotenv\n",
    "import os\n",
    "# Get the path to the root directory of the repository\n",
    "root_dir = os.path.abspath(os.path.join(os.getcwd(), '../..'))\n",
    "\n",
    "# Load environment variables from .env file in the root directory\n",
    "load_dotenv(os.path.join(root_dir, '.env'))"
   ]
  },
  {
   "cell_type": "code",
   "execution_count": 2,
   "id": "91de3577",
   "metadata": {},
   "outputs": [],
   "source": [
    "import sys\n",
    "\n",
    "# Add MCP-server to path\n",
    "mcp_server_path = os.path.abspath(os.path.join(os.getcwd(), '../../MCP-server'))\n",
    "sys.path.insert(0, mcp_server_path)"
   ]
  },
  {
   "cell_type": "markdown",
   "id": "73d40f3d",
   "metadata": {},
   "source": [
    "### Kubernetes API\n",
    "\n",
    "The `get_problematic_pods()` method identifies unhealthy pods in a Kubernetes namespace using four key heuristics:\n",
    "\n",
    "1. **Pod Pending State**\n",
    "- **Detection**: Pod is stuck in `Pending` phase with no container statuses\n",
    "- **Meaning**: The pod cannot be scheduled or is waiting for resources\n",
    "- **Common causes**: Insufficient cluster resources (CPU/memory), node selector mismatches, persistent volume issues, or scheduling constraints\n",
    "\n",
    "2. **Container Waiting State**\n",
    "- **Detection**: Container is in a `Waiting` state (not yet running)\n",
    "- **Meaning**: The container cannot start properly\n",
    "- **Common causes**: \n",
    "  - `ImagePullBackOff`: Cannot pull the container image (authentication, wrong tag, or network issues)\n",
    "  - `CrashLoopBackOff`: Container starts but immediately crashes\n",
    "  - `CreateContainerError`: Error creating the container runtime\n",
    "\n",
    "3. **Container Terminated with Error**\n",
    "- **Detection**: Container terminated with non-zero exit code\n",
    "- **Meaning**: The container exited abnormally\n",
    "- **Common causes**: Application crash, failed health checks, out of memory (OOMKilled), or configuration errors\n",
    "- **Captures**: Exit code, reason, message, and restart count\n",
    "\n",
    "4. **High Restart Count (Crash Loop)**\n",
    "- **Detection**: Container has restarted more than 3 times\n",
    "- **Threshold**: `restart_count > 3` (filters out transient single restarts)\n",
    "- **Meaning**: Container is repeatedly crashing and restarting\n",
    "- **Common causes**: Application bugs, missing dependencies, memory leaks, or failed liveness probes\n",
    "- **Note**: Can appear even when container state is \"Running\" (between crashes)"
   ]
  },
  {
   "cell_type": "code",
   "execution_count": 3,
   "id": "91db433a",
   "metadata": {},
   "outputs": [],
   "source": [
    "from api.k8s_api import K8sAPI\n",
    "# Get kubernetes problematic pods\n",
    "k8s_api = K8sAPI()\n",
    "\n",
    "# Get all services and pods\n",
    "services = k8s_api.get_services_list()\n",
    "pods = k8s_api.get_pods_list()\n",
    "\n",
    "problematic_pods = k8s_api.get_problematic_pods()"
   ]
  },
  {
   "cell_type": "code",
   "execution_count": 4,
   "id": "eb998e51",
   "metadata": {},
   "outputs": [
    {
     "data": {
      "text/plain": [
       "{'problematic_pods': [{'pod_name': 'geo-6b4b89b5f5-2fltz',\n",
       "   'namespace': 'test-hotel-reservation',\n",
       "   'pod_phase': 'Running',\n",
       "   'container_issues': [{'container_name': 'hotel-reserv-geo',\n",
       "     'issue_type': 'Waiting',\n",
       "     'reason': 'CrashLoopBackOff',\n",
       "     'message': 'back-off 5m0s restarting failed container=hotel-reserv-geo pod=geo-6b4b89b5f5-2fltz_test-hotel-reservation(c4c820de-5a7c-42dd-be03-677394f356d1)',\n",
       "     'restart_count': 8}]}]}"
      ]
     },
     "execution_count": 4,
     "metadata": {},
     "output_type": "execute_result"
    }
   ],
   "source": [
    "problematic_pods"
   ]
  },
  {
   "cell_type": "markdown",
   "id": "38529c13",
   "metadata": {},
   "source": [
    "### Jaeger API (traces analysis)\n",
    "\n",
    "The Jaeger API provides methods to identify problematic traces using server-side filtering for efficiency.\n",
    "\n",
    "**1. `get_processed_traces(service, only_errors=False)`**\n",
    "Returns all traces for a service with optional error filtering.\n",
    "\n",
    "**2. `get_slow_traces(service, min_duration_ms, only_errors=False)`**\n",
    "Returns only traces exceeding a latency threshold, sorted by slowest first."
   ]
  },
  {
   "cell_type": "code",
   "execution_count": 5,
   "id": "39f86032",
   "metadata": {},
   "outputs": [
    {
     "name": "stderr",
     "output_type": "stream",
     "text": [
      "WARNING:root:No slow traces found for service 'frontend' with min duration 2000ms\n"
     ]
    }
   ],
   "source": [
    "from api.jaeger_api import JaegerAPI\n",
    "\n",
    "# Get traces which present delays or errors\n",
    "jaeger_api = JaegerAPI()\n",
    "\n",
    "# Traces which have errors\n",
    "problematic_traces = jaeger_api.get_processed_traces(service=\"frontend\", only_errors=True)\n",
    "\n",
    "# Filtern for traces whxich take more than 2 seconds\n",
    "slow_traces = jaeger_api.get_slow_traces(service=\"frontend\", min_duration_ms=2000)"
   ]
  },
  {
   "cell_type": "code",
   "execution_count": 6,
   "id": "f06a115f",
   "metadata": {},
   "outputs": [
    {
     "data": {
      "text/plain": [
       "{'service': 'frontend',\n",
       " 'traces': [{'traceID': '216987f0ea55f244',\n",
       "   'latency_ms': 0.817,\n",
       "   'has_error': True,\n",
       "   'sequence': 'frontend -> search',\n",
       "   'error_message': 'rpc error: code = Unavailable desc = there is no connection available; rpc error: code = Unavailable desc = there is no connection available; rpc error: code = Unavailable desc = there is no connection available'},\n",
       "  {'traceID': '40b75e81d657b6f6',\n",
       "   'latency_ms': 1.147,\n",
       "   'has_error': True,\n",
       "   'sequence': 'frontend -> search',\n",
       "   'error_message': 'rpc error: code = Unavailable desc = there is no connection available; rpc error: code = Unavailable desc = there is no connection available; rpc error: code = Unavailable desc = there is no connection available'},\n",
       "  {'traceID': '35087d7a1d4d5d92',\n",
       "   'latency_ms': 0.644,\n",
       "   'has_error': True,\n",
       "   'sequence': 'frontend -> search',\n",
       "   'error_message': 'rpc error: code = Unavailable desc = there is no connection available; rpc error: code = Unavailable desc = there is no connection available; rpc error: code = Unavailable desc = there is no connection available'},\n",
       "  {'traceID': '2fc2bbbd958b231d',\n",
       "   'latency_ms': 0.715,\n",
       "   'has_error': True,\n",
       "   'sequence': 'frontend -> search',\n",
       "   'error_message': 'rpc error: code = Unavailable desc = there is no connection available; rpc error: code = Unavailable desc = there is no connection available; rpc error: code = Unavailable desc = there is no connection available'},\n",
       "  {'traceID': '442de1d7c5ca2742',\n",
       "   'latency_ms': 0.699,\n",
       "   'has_error': True,\n",
       "   'sequence': 'frontend -> search',\n",
       "   'error_message': 'rpc error: code = Unavailable desc = there is no connection available; rpc error: code = Unavailable desc = there is no connection available; rpc error: code = Unavailable desc = there is no connection available'},\n",
       "  {'traceID': '06d8b362127ab470',\n",
       "   'latency_ms': 0.809,\n",
       "   'has_error': True,\n",
       "   'sequence': 'frontend -> search',\n",
       "   'error_message': 'rpc error: code = Unavailable desc = there is no connection available; rpc error: code = Unavailable desc = there is no connection available; rpc error: code = Unavailable desc = there is no connection available'},\n",
       "  {'traceID': '4556651b1733b901',\n",
       "   'latency_ms': 0.583,\n",
       "   'has_error': True,\n",
       "   'sequence': 'frontend -> search',\n",
       "   'error_message': 'rpc error: code = Unavailable desc = there is no connection available; rpc error: code = Unavailable desc = there is no connection available; rpc error: code = Unavailable desc = there is no connection available'},\n",
       "  {'traceID': '02b8ec42494ebd18',\n",
       "   'latency_ms': 0.475,\n",
       "   'has_error': True,\n",
       "   'sequence': 'frontend -> search',\n",
       "   'error_message': 'rpc error: code = Unavailable desc = there is no connection available; rpc error: code = Unavailable desc = there is no connection available; rpc error: code = Unavailable desc = there is no connection available'},\n",
       "  {'traceID': '7544a099e4ad1015',\n",
       "   'latency_ms': 0.769,\n",
       "   'has_error': True,\n",
       "   'sequence': 'frontend -> search',\n",
       "   'error_message': 'rpc error: code = Unavailable desc = there is no connection available; rpc error: code = Unavailable desc = there is no connection available; rpc error: code = Unavailable desc = there is no connection available'},\n",
       "  {'traceID': '1f8e3d456f97c346',\n",
       "   'latency_ms': 0.666,\n",
       "   'has_error': True,\n",
       "   'sequence': 'frontend -> search',\n",
       "   'error_message': 'rpc error: code = Unavailable desc = there is no connection available; rpc error: code = Unavailable desc = there is no connection available; rpc error: code = Unavailable desc = there is no connection available'},\n",
       "  {'traceID': '5659f2b8123f7a09',\n",
       "   'latency_ms': 0.639,\n",
       "   'has_error': True,\n",
       "   'sequence': 'frontend -> search',\n",
       "   'error_message': 'rpc error: code = Unavailable desc = there is no connection available; rpc error: code = Unavailable desc = there is no connection available; rpc error: code = Unavailable desc = there is no connection available'},\n",
       "  {'traceID': '21305342510d6cd3',\n",
       "   'latency_ms': 0.655,\n",
       "   'has_error': True,\n",
       "   'sequence': 'frontend -> search',\n",
       "   'error_message': 'rpc error: code = Unavailable desc = there is no connection available; rpc error: code = Unavailable desc = there is no connection available; rpc error: code = Unavailable desc = there is no connection available'},\n",
       "  {'traceID': '2db57fb9ae06e441',\n",
       "   'latency_ms': 0.655,\n",
       "   'has_error': True,\n",
       "   'sequence': 'frontend -> search',\n",
       "   'error_message': 'rpc error: code = Unavailable desc = there is no connection available; rpc error: code = Unavailable desc = there is no connection available; rpc error: code = Unavailable desc = there is no connection available'},\n",
       "  {'traceID': '474279bc5a3a25cd',\n",
       "   'latency_ms': 0.576,\n",
       "   'has_error': True,\n",
       "   'sequence': 'frontend -> search',\n",
       "   'error_message': 'rpc error: code = Unavailable desc = there is no connection available; rpc error: code = Unavailable desc = there is no connection available; rpc error: code = Unavailable desc = there is no connection available'},\n",
       "  {'traceID': '371bf7d60bba8054',\n",
       "   'latency_ms': 0.588,\n",
       "   'has_error': True,\n",
       "   'sequence': 'frontend -> search',\n",
       "   'error_message': 'rpc error: code = Unavailable desc = there is no connection available; rpc error: code = Unavailable desc = there is no connection available; rpc error: code = Unavailable desc = there is no connection available'},\n",
       "  {'traceID': '074961042c379eb1',\n",
       "   'latency_ms': 0.643,\n",
       "   'has_error': True,\n",
       "   'sequence': 'frontend -> search',\n",
       "   'error_message': 'rpc error: code = Unavailable desc = there is no connection available; rpc error: code = Unavailable desc = there is no connection available; rpc error: code = Unavailable desc = there is no connection available'},\n",
       "  {'traceID': '734413424fcaed7c',\n",
       "   'latency_ms': 0.904,\n",
       "   'has_error': True,\n",
       "   'sequence': 'frontend -> search',\n",
       "   'error_message': 'rpc error: code = Unavailable desc = there is no connection available; rpc error: code = Unavailable desc = there is no connection available; rpc error: code = Unavailable desc = there is no connection available'},\n",
       "  {'traceID': '048be1cb346d0e1b',\n",
       "   'latency_ms': 0.628,\n",
       "   'has_error': True,\n",
       "   'sequence': 'frontend -> search',\n",
       "   'error_message': 'rpc error: code = Unavailable desc = there is no connection available; rpc error: code = Unavailable desc = there is no connection available; rpc error: code = Unavailable desc = there is no connection available'},\n",
       "  {'traceID': '39beb33cdf4f862e',\n",
       "   'latency_ms': 0.678,\n",
       "   'has_error': True,\n",
       "   'sequence': 'frontend -> search',\n",
       "   'error_message': 'rpc error: code = Unavailable desc = there is no connection available; rpc error: code = Unavailable desc = there is no connection available; rpc error: code = Unavailable desc = there is no connection available'},\n",
       "  {'traceID': '36286fa4ad309d5a',\n",
       "   'latency_ms': 0.544,\n",
       "   'has_error': True,\n",
       "   'sequence': 'frontend -> search',\n",
       "   'error_message': 'rpc error: code = Unavailable desc = there is no connection available; rpc error: code = Unavailable desc = there is no connection available; rpc error: code = Unavailable desc = there is no connection available'}],\n",
       " 'traces_count': 20}"
      ]
     },
     "execution_count": 6,
     "metadata": {},
     "output_type": "execute_result"
    }
   ],
   "source": [
    "problematic_traces"
   ]
  },
  {
   "cell_type": "code",
   "execution_count": 7,
   "id": "0ae96cb6",
   "metadata": {},
   "outputs": [
    {
     "data": {
      "text/plain": [
       "{'service': 'frontend',\n",
       " 'traces': [],\n",
       " 'info': \"No traces found for service 'frontend' with a minimum duration of 2000ms in the last 15m.\"}"
      ]
     },
     "execution_count": 7,
     "metadata": {},
     "output_type": "execute_result"
    }
   ],
   "source": [
    "slow_traces"
   ]
  },
  {
   "cell_type": "markdown",
   "id": "989f1a18",
   "metadata": {},
   "source": [
    "### Prometheus API (Metrics Analysis)\n",
    "\n",
    "The Prometheus API provides methods to analyze pod health using resource metrics and detect anomalies.\n",
    "\n",
    "**`get_pod_triage_metrics(pod_name)`**\n",
    "Performs a simple triage based on universal, instant metrics without requiring pod resource specifications.\n",
    "\n",
    "**Heuristics:**\n",
    "\n",
    "**1. Thread Saturation**\n",
    "- **Detection**: `container_threads / container_threads_max > 0.95`\n",
    "- **Threshold**: 95% of maximum threads\n",
    "- **Meaning**: The container is running out of available threads\n",
    "- **Impact**: Application may hang, reject new requests, or crash\n",
    "\n",
    "**2. High CPU Load**\n",
    "- **Detection**: `container_cpu_load_average_10s > 10.0`\n",
    "- **Threshold**: CPU load average exceeds 10.0 over 10 seconds\n",
    "- **Meaning**: The CPU is likely saturated and struggling to keep up with demand\n",
    "- **Impact**: High latency, slow response times, request timeouts\n",
    "\n",
    "\n",
    "**3. Network Errors & Packet Drops**\n",
    "- **Detection**: Any of the following metrics > 1:\n",
    "  - `container_network_receive_errors_total`: Network receive errors\n",
    "  - `container_network_transmit_errors_total`: Network transmit errors\n",
    "  - `container_network_receive_packets_dropped_total`: Dropped received packets\n",
    "  - `container_network_transmit_packets_dropped_total`: Dropped transmitted packets\n",
    "- **Threshold**: More than 1 occurrence during pod lifetime\n",
    "- **Meaning**: The pod has experienced network connectivity issues\n",
    "- **Impact**: Request failures, data loss, connectivity problems"
   ]
  },
  {
   "cell_type": "code",
   "execution_count": 8,
   "id": "5c65bed9",
   "metadata": {},
   "outputs": [],
   "source": [
    "from api.prometheus_api import PrometheusAPI\n",
    "\n",
    "# Get metrics for each pod\n",
    "prometheus_api = PrometheusAPI()\n",
    "\n",
    "problematic_pods_metrics = []\n",
    "\n",
    "for pod in pods:\n",
    "    triage_metric_report = prometheus_api.get_pod_triage_metrics(pod)\n",
    "    if triage_metric_report[\"is_anomalous\"]:\n",
    "        problematic_pods_metrics.append(triage_metric_report)"
   ]
  },
  {
   "cell_type": "code",
   "execution_count": 9,
   "id": "8f54cfdd",
   "metadata": {},
   "outputs": [
    {
     "data": {
      "text/plain": [
       "[]"
      ]
     },
     "execution_count": 9,
     "metadata": {},
     "output_type": "execute_result"
    }
   ],
   "source": [
    "problematic_pods_metrics"
   ]
  },
  {
   "cell_type": "markdown",
   "id": "2101dfe7",
   "metadata": {},
   "source": [
    "## Build the agent"
   ]
  },
  {
   "cell_type": "code",
   "execution_count": 10,
   "id": "ee4c294e",
   "metadata": {},
   "outputs": [],
   "source": [
    "from typing import TypedDict, List, Literal, Annotated\n",
    "\n",
    "class TrialAgentState(TypedDict):\n",
    "    app_summary: str\n",
    "    target_namespace: str\n",
    "    trace_service_starting_point: str\n",
    "    problematic_pods: dict\n",
    "    problematic_traces: dict\n",
    "    slow_traces: dict\n",
    "    problematic_metrics: dict\n",
    "    potential_symptoms: List"
   ]
  },
  {
   "cell_type": "code",
   "execution_count": 11,
   "id": "e5fb8f65",
   "metadata": {},
   "outputs": [],
   "source": [
    "from api.jaeger_api import JaegerAPI\n",
    "from api.k8s_api import K8sAPI\n",
    "from api.prometheus_api import PrometheusAPI\n",
    "\n",
    "def get_triage_data(state: TrialAgentState):\n",
    "    \"\"\"Get triage data from cluster\"\"\"\n",
    "\n",
    "    jaeger_api = JaegerAPI()\n",
    "    k8s_api = K8sAPI(state[\"target_namespace\"])\n",
    "    prometheus_api = PrometheusAPI(namespace=state[\"target_namespace\"])\n",
    "    \n",
    "    # Get pods with problematic statuses\n",
    "    problematic_pods = k8s_api.get_problematic_pods()\n",
    "\n",
    "    # Traces which have errors\n",
    "    problematic_traces = jaeger_api.get_processed_traces(service=state[\"trace_service_starting_point\"], only_errors=True)\n",
    "\n",
    "    # Filtern for traces whxich take more than 2 seconds\n",
    "    slow_traces = jaeger_api.get_slow_traces(service=state[\"trace_service_starting_point\"], min_duration_ms=2000)\n",
    "\n",
    "    # Metrics with anomalous values\n",
    "    problematic_pods_metrics = {}\n",
    "    problematic_pods_metrics[\"problematic_metrics\"] = []\n",
    "\n",
    "    for pod in pods:\n",
    "        triage_metric_report = prometheus_api.get_pod_triage_metrics(pod)\n",
    "        if triage_metric_report[\"is_anomalous\"]:\n",
    "            problematic_pods_metrics[\"problematic_metrics\"].append(triage_metric_report)\n",
    "    \n",
    "    if(len(problematic_pods_metrics[\"problematic_metrics\"])>0):\n",
    "        problematic_pods_metrics[\"pods_count\"] = len(problematic_pods_metrics[\"problematic_metrics\"])\n",
    "    else:\n",
    "        problematic_pods_metrics[\"info\"] = \"All monitored metrics look healthy; no anomalous values detected.\"\n",
    "\n",
    "    return {\n",
    "        \"problematic_pods\": problematic_pods,\n",
    "        \"problematic_traces\": problematic_traces,\n",
    "        \"slow_traces\": slow_traces,\n",
    "        \"problematic_metrics\": problematic_pods_metrics\n",
    "    }"
   ]
  },
  {
   "cell_type": "code",
   "execution_count": 12,
   "id": "7e921ed9",
   "metadata": {},
   "outputs": [],
   "source": [
    "from pydantic import BaseModel, Field\n",
    "from typing import List\n",
    "\n",
    "class Symptom(BaseModel):\n",
    "    \"\"\"\n",
    "    A symptom observed in the Kubernetes cluster\n",
    "    \"\"\"\n",
    "    potential_symptom: str = Field(..., description=\"Type of symptom observed\")\n",
    "    affected_pod: str = Field(..., description=\"Name of the pod experiencing the issue\")\n",
    "    evidence: str = Field(..., description=\"Evidence supporting this symptom identification\")\n",
    "\n",
    "class SymptomList(BaseModel):\n",
    "    \"\"\"\n",
    "    A list of symptoms observed in the Kubernetes cluster\n",
    "    \"\"\"\n",
    "    symptoms: List[Symptom] = Field(default_factory=list, description=\"List of symptoms observed in the cluster\")"
   ]
  },
  {
   "cell_type": "code",
   "execution_count": 13,
   "id": "868c347c",
   "metadata": {},
   "outputs": [],
   "source": [
    "from langchain_openai import ChatOpenAI\n",
    "\n",
    "gpt5mini = ChatOpenAI(model=\"gpt-5-mini\")\n",
    "\n",
    "llm_for_symptoms = gpt5mini.with_structured_output(SymptomList)"
   ]
  },
  {
   "cell_type": "code",
   "execution_count": 14,
   "id": "785d21ea",
   "metadata": {},
   "outputs": [],
   "source": [
    "import json\n",
    "from langchain_core.prompts import ChatPromptTemplate\n",
    "\n",
    "# TODO: Improve the prompt to remove the datasets which doesn't have any data\n",
    "\n",
    "prompt_template = ChatPromptTemplate.from_messages(\n",
    "    [\n",
    "        (\n",
    "            \"system\",\n",
    "            \"\"\"You are an expert Site Reliability Engineer. Your mission is to triage a Kubernetes application by analyzing the provided data.\n",
    "\n",
    "Analyze the following datasets:\n",
    "1.  **Problematic Pods**: Pods with non-running statuses (e.g., Pending, Error, CrashLoopBackOff).\n",
    "2.  **Anomalous Metrics**: Pods exhibiting unhealthy metrics (e.g., high CPU load, thread saturation, network errors).\n",
    "3.  **Error Traces**: Request traces that contain errors.\n",
    "4.  **Slow Traces**: Request traces that exceed the latency threshold.\n",
    "\n",
    "Synthesize this information to identify and list all potential symptoms of failure. For each symptom, you must pinpoint the affected pod and cite the specific evidence from the data that supports your conclusion.\"\"\",\n",
    "        ),\n",
    "        (\n",
    "            \"human\",\n",
    "            \"\"\"\n",
    "Please analyze the following triage data for this application.\n",
    "\n",
    "### Application Summary\n",
    "{app_summary}\n",
    "\n",
    "### 1. Problematic Pods\n",
    "```json\n",
    "{pods}\n",
    "```\n",
    "\n",
    "### 2. Anomalous Pod Metrics\n",
    "```json\n",
    "{metrics}\n",
    "```\n",
    "\n",
    "### 3. Error Traces\n",
    "```json\n",
    "{error_traces}\n",
    "```\n",
    "\n",
    "### 4. Slow Traces\n",
    "```json\n",
    "{slow_traces}\n",
    "```\n",
    "\"\"\",\n",
    "        ),\n",
    "    ]\n",
    ")"
   ]
  },
  {
   "cell_type": "code",
   "execution_count": 15,
   "id": "4497b57c",
   "metadata": {},
   "outputs": [],
   "source": [
    "def discover_potential_symptoms(state: TrialAgentState):\n",
    "    problematic_pods_str = json.dumps(state[\"problematic_pods\"], indent=2)\n",
    "    problematic_metrics_str = json.dumps(state[\"problematic_metrics\"], indent=2)\n",
    "    problematic_traces_str = json.dumps(state[\"problematic_traces\"], indent=2)\n",
    "    slow_traces_str = json.dumps(state[\"slow_traces\"], indent=2)\n",
    "\n",
    "    triage_chain = prompt_template | llm_for_symptoms\n",
    "\n",
    "    symptom_list = triage_chain.invoke({\n",
    "        \"app_name\": \"Hotel Reservation System\",\n",
    "        \"app_summary\": state[\"app_summary\"],\n",
    "        \"pods\": problematic_pods_str,\n",
    "        \"metrics\": problematic_metrics_str,\n",
    "        \"error_traces\": problematic_traces_str,\n",
    "        \"slow_traces\": slow_traces_str,\n",
    "    })\n",
    "\n",
    "    return {\"potential_symptoms\" : symptom_list}"
   ]
  },
  {
   "cell_type": "code",
   "execution_count": 16,
   "id": "281e6b59",
   "metadata": {},
   "outputs": [
    {
     "data": {
      "image/png": "[encoded data removed]",
      "text/plain": [
       "<IPython.core.display.Image object>"
      ]
     },
     "metadata": {},
     "output_type": "display_data"
    }
   ],
   "source": [
    "from langgraph.graph import START, END, StateGraph\n",
    "from IPython.display import Image, display\n",
    "\n",
    "# Build the graph\n",
    "builder = StateGraph(TrialAgentState)\n",
    "\n",
    "# Add nodes\n",
    "builder.add_node(\"gather-triage-data\", get_triage_data)\n",
    "builder.add_node(\"discover-potential-symptoms\", discover_potential_symptoms)\n",
    "\n",
    "# Add edges\n",
    "builder.add_edge(START,\"gather-triage-data\")\n",
    "builder.add_edge(\"gather-triage-data\", \"discover-potential-symptoms\")\n",
    "builder.add_edge(\"discover-potential-symptoms\", END)\n",
    "\n",
    "triage_agent = builder.compile()\n",
    "\n",
    "display(Image(triage_agent.get_graph(xray=True).draw_mermaid_png()))"
   ]
  },
  {
   "cell_type": "code",
   "execution_count": 17,
   "id": "d87cb14c",
   "metadata": {},
   "outputs": [],
   "source": [
    "import time\n",
    "\n",
    "def run_triage_agent(graph, app_summary:str, target_namespace: str, trace_service_starting_point: str, trace_name: str | None = None):\n",
    "    \"\"\"Test the structured graph with SREAgentState\"\"\"\n",
    "    # Create initial state with SREAgentState structure\n",
    "    initial_state = {\n",
    "        \"app_summary\" : app_summary,\n",
    "        \"target_namespace\": target_namespace,\n",
    "        \"trace_service_starting_point\": trace_service_starting_point,\n",
    "        \"problematic_pods\": {},\n",
    "        \"problematic_traces\": {},\n",
    "        \"slow_traces\": {},\n",
    "        \"problematic_metrics\": {},\n",
    "        \"potential_symptoms\": []\n",
    "    }\n",
    "    \n",
    "    # Start time tracking\n",
    "    start_time = time.time()\n",
    "\n",
    "    # Configuration for the graph execution\n",
    "    config = {\"recursion_limit\": 50}\n",
    "    if trace_name:\n",
    "        config[\"run_name\"] = trace_name # type: ignore\n",
    "    \n",
    "    # Invoke the graph\n",
    "    symptoms = graph.invoke(initial_state, config)\n",
    "\n",
    "    # Calculate execution time\n",
    "    execution_time = time.time() - start_time\n",
    "\n",
    "    return symptoms, execution_time"
   ]
  },
  {
   "cell_type": "code",
   "execution_count": 18,
   "id": "e9d3d4f7",
   "metadata": {},
   "outputs": [],
   "source": [
    "experiment_name = input(\"Enter experiment name: \")\n",
    "\n",
    "if experiment_name.strip() == \"\":\n",
    "    experiment_name = \"Triage agent\""
   ]
  },
  {
   "cell_type": "code",
   "execution_count": 19,
   "id": "03ef9f5a",
   "metadata": {},
   "outputs": [],
   "source": [
    "app_summary = \"\"\"\n",
    "    The application implements a hotel reservation service, build with Go and gRPC. The initial project is extended in several ways, including adding back-end in-memory and persistent databases, adding a recommender system for obtaining hotel recommendations, and adding the functionality to place a hotel reservation. \n",
    "\"\"\"\n",
    "target_namespace = \"test-hotel-reservation\"\n",
    "service_starting_point = \"frontend\""
   ]
  },
  {
   "cell_type": "code",
   "execution_count": 20,
   "id": "51f21cf4",
   "metadata": {},
   "outputs": [
    {
     "name": "stderr",
     "output_type": "stream",
     "text": [
      "WARNING:root:No slow traces found for service 'frontend' with min duration 2000ms\n"
     ]
    }
   ],
   "source": [
    "final_state, execTime = run_triage_agent(\n",
    "    graph=triage_agent,\n",
    "    app_summary=app_summary,\n",
    "    target_namespace=target_namespace,\n",
    "    trace_service_starting_point=service_starting_point,\n",
    "    trace_name=experiment_name\n",
    ")"
   ]
  },
  {
   "cell_type": "code",
   "execution_count": 21,
   "id": "ef44dc40",
   "metadata": {},
   "outputs": [
    {
     "name": "stdout",
     "output_type": "stream",
     "text": [
      "\n",
      " ### Symptom 1 ###\n",
      "Potential symptom: Container CrashLoopBackOff (pod repeatedly failing to start)\n",
      "Affected pod: geo-6b4b89b5f5-2fltz\n",
      "Evidence: problematic_pods -> pod_name=geo-6b4b89b5f5-2fltz, container_name=hotel-reserv-geo, issue_type=Waiting, reason=CrashLoopBackOff, message='back-off 5m0s restarting failed container=hotel-reserv-geo ...', restart_count=8\n",
      "\n",
      "\n",
      " ### Symptom 2 ###\n",
      "Potential symptom: Pod instability / frequent restarts\n",
      "Affected pod: geo-6b4b89b5f5-2fltz\n",
      "Evidence: problematic_pods shows restart_count=8 for container hotel-reserv-geo and CrashLoopBackOff back-off message indicating repeated failures and restart cycling\n",
      "\n",
      "\n",
      " ### Symptom 3 ###\n",
      "Potential symptom: Frontend RPC calls to 'search' failing with 'Unavailable' (connection pool / backend unreachability)\n",
      "Affected pod: frontend (service pods)\n",
      "Evidence: Error Traces: 20 traces from service='frontend' with sequence='frontend -> search' and error_message repeatedly: 'rpc error: code = Unavailable desc = there is no connection available' (example traceIDs: 216987f0ea55f244, 40b75e81d657b6f6, 35087d7a1d4d5d92)\n",
      "\n",
      "\n",
      " ### Symptom 4 ###\n",
      "Potential symptom: Search backend has no available connections / is unavailable\n",
      "Affected pod: search service pods (not listed in problematic_pods)\n",
      "Evidence: Error Traces show calls from frontend to search failing with 'there is no connection available' in many traces, indicating the search backend or its connection pool/endpoints are unavailable\n",
      "\n",
      "\n",
      " ### Symptom 5 ###\n",
      "Potential symptom: No metric anomalies detected (monitoring shows healthy)\n",
      "Affected pod: cluster metrics (all monitored pods)\n",
      "Evidence: Anomalous Pod Metrics: problematic_metrics = [], info='All monitored metrics look healthy; no anomalous values detected.' — suggests metrics did not surface CPU/memory/network anomalies for these failures\n",
      "\n"
     ]
    }
   ],
   "source": [
    "potential_symptoms = final_state[\"potential_symptoms\"].symptoms\n",
    "\n",
    "for i, symptom in enumerate(potential_symptoms):\n",
    "    print(f\"\\n ### Symptom {i+1} ###\\nPotential symptom: {symptom.potential_symptom}\\nAffected pod: {symptom.affected_pod}\\nEvidence: {symptom.evidence}\\n\")\n"
   ]
  }
 ],
 "metadata": {
  "kernelspec": {
   "display_name": "sre-agent-35UqMg2y-py3.13",
   "language": "python",
   "name": "python3"
  },
  "language_info": {
   "codemirror_mode": {
    "name": "ipython",
    "version": 3
   },
   "file_extension": ".py",
   "mimetype": "text/x-python",
   "name": "python",
   "nbconvert_exporter": "python",
   "pygments_lexer": "ipython3",
   "version": "3.13.7"
  }
 },
 "nbformat": 4,
 "nbformat_minor": 5
}
