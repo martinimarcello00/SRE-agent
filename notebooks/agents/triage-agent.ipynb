{
 "cells": [
  {
   "cell_type": "markdown",
   "id": "01d29ce4",
   "metadata": {},
   "source": [
    "# Triage Agent\n",
    "\n",
    "Gather a high-level overview of the cluster's health and identify potential problem areas."
   ]
  },
  {
   "cell_type": "markdown",
   "id": "52cdd360",
   "metadata": {},
   "source": [
    "### Deterministic data gathering\n",
    "\n",
    "- **Pod Status Check**:\n",
    "    - `Tool`: `K8sAPI.get_problematic_pods()`\n",
    "    - `Output`: Pods with pending states, container errors, high restarts (>3)\n",
    "- **Trace Analysis**:\n",
    "    - `Tool`: `JaegerAPI.get_processed_traces()` and `JaegerAPI.get_slow_traces()`\n",
    "    - `Output`: Traces with errors or high latency, including service sequences\n",
    "- **Metrics Analysis**:\n",
    "    - `Tool`: `PrometheusAPI.get_pod_triage_metrics()`\n",
    "    - `Output`: Pods with thread saturation (>95%), high CPU load (>10.0), or network errors"
   ]
  },
  {
   "cell_type": "code",
   "execution_count": null,
   "id": "d6e9a959",
   "metadata": {},
   "outputs": [],
   "source": [
    "from dotenv import load_dotenv\n",
    "import os\n",
    "# Get the path to the root directory of the repository\n",
    "root_dir = os.path.abspath(os.path.join(os.getcwd(), '../..'))\n",
    "\n",
    "# Load environment variables from .env file in the root directory\n",
    "load_dotenv(os.path.join(root_dir, '.env'), verbose=True)"
   ]
  },
  {
   "cell_type": "code",
   "execution_count": null,
   "id": "91de3577",
   "metadata": {},
   "outputs": [],
   "source": [
    "import sys\n",
    "\n",
    "# Add MCP-server to path\n",
    "mcp_server_path = os.path.abspath(os.path.join(os.getcwd(), '../../MCP-server'))\n",
    "sys.path.insert(0, mcp_server_path)"
   ]
  },
  {
   "cell_type": "markdown",
   "id": "2101dfe7",
   "metadata": {},
   "source": [
    "## Build the agent"
   ]
  },
  {
   "cell_type": "code",
   "execution_count": null,
   "id": "619e913a",
   "metadata": {},
   "outputs": [],
   "source": [
    "from pydantic import BaseModel, Field\n",
    "from typing import List, Literal\n",
    "\n",
    "class Symptom(BaseModel):\n",
    "    \"\"\"A symptom observed in the Kubernetes cluster\"\"\"\n",
    "    potential_symptom: str = Field(..., description=\"Type of symptom observed\")\n",
    "    resource_type: Literal[\"pod\", \"service\"] = Field(..., description=\"Type of resource experiencing the issue\")\n",
    "    affected_resource: str = Field(..., description=\"Name of the resource experiencing the issue\")\n",
    "    evidence: str = Field(..., description=\"Evidence supporting this symptom identification\")\n",
    "\n",
    "class SymptomList(BaseModel):\n",
    "    \"\"\"A list of symptoms observed in the Kubernetes cluster\"\"\"\n",
    "    symptoms: List[Symptom] = Field(default_factory=list, description=\"List of symptoms observed in the cluster\")"
   ]
  },
  {
   "cell_type": "code",
   "execution_count": null,
   "id": "ee4c294e",
   "metadata": {},
   "outputs": [],
   "source": [
    "from typing import TypedDict, List, Literal, Annotated\n",
    "\n",
    "class TriageAgentState(TypedDict):\n",
    "    app_name: str\n",
    "    app_summary: str\n",
    "    target_namespace: str\n",
    "    trace_service_starting_point: str\n",
    "    problematic_pods: dict\n",
    "    problematic_traces: dict\n",
    "    slow_traces: dict\n",
    "    problematic_metrics: dict\n",
    "    potential_symptoms: List"
   ]
  },
  {
   "cell_type": "code",
   "execution_count": null,
   "id": "e5fb8f65",
   "metadata": {},
   "outputs": [],
   "source": [
    "from api.jaeger_api import JaegerAPI\n",
    "from api.k8s_api import K8sAPI\n",
    "from api.prometheus_api import PrometheusAPI\n",
    "\n",
    "def get_triage_data(state: TriageAgentState):\n",
    "    \"\"\"Get triage data from cluster\"\"\"\n",
    "\n",
    "    jaeger_api = JaegerAPI()\n",
    "    k8s_api = K8sAPI(state[\"target_namespace\"])\n",
    "    prometheus_api = PrometheusAPI(namespace=state[\"target_namespace\"])\n",
    "    \n",
    "    # Get pods with problematic statuses\n",
    "    problematic_pods = k8s_api.get_problematic_pods()\n",
    "\n",
    "    # Traces which have errors\n",
    "    problematic_traces = jaeger_api.get_processed_traces(service=state[\"trace_service_starting_point\"], only_errors=True)\n",
    "\n",
    "    # Filtern for traces whxich take more than 2 seconds\n",
    "    slow_traces = jaeger_api.get_slow_traces(service=state[\"trace_service_starting_point\"], min_duration_ms=2000)\n",
    "\n",
    "    # Metrics with anomalous values\n",
    "    problematic_pods_metrics = {}\n",
    "    problematic_pods_metrics[\"problematic_metrics\"] = []\n",
    "\n",
    "    pods = k8s_api.get_pods_list()\n",
    "\n",
    "    for pod in pods:\n",
    "        triage_metric_report = prometheus_api.get_pod_triage_metrics(pod)\n",
    "        if triage_metric_report[\"is_anomalous\"]:\n",
    "            problematic_pods_metrics[\"problematic_metrics\"].append(triage_metric_report)\n",
    "    \n",
    "    if(len(problematic_pods_metrics[\"problematic_metrics\"])>0):\n",
    "        problematic_pods_metrics[\"pods_count\"] = len(problematic_pods_metrics[\"problematic_metrics\"])\n",
    "    else:\n",
    "        problematic_pods_metrics[\"info\"] = \"All monitored metrics look healthy; no anomalous values detected.\"\n",
    "\n",
    "    return {\n",
    "        \"problematic_pods\": problematic_pods,\n",
    "        \"problematic_traces\": problematic_traces,\n",
    "        \"slow_traces\": slow_traces,\n",
    "        \"problematic_metrics\": problematic_pods_metrics\n",
    "    }"
   ]
  },
  {
   "cell_type": "code",
   "execution_count": null,
   "id": "7e921ed9",
   "metadata": {},
   "outputs": [],
   "source": [
    "from pydantic import BaseModel, Field\n",
    "from typing import List\n",
    "\n",
    "class Symptom(BaseModel):\n",
    "    \"\"\"\n",
    "    A symptom observed in the Kubernetes cluster\n",
    "    \"\"\"\n",
    "    potential_symptom: str = Field(..., description=\"Type of symptom observed\")\n",
    "    resource_type: Literal[\"pod\", \"service\"] = Field(..., description=\"Type of resource experiencing the issue\")\n",
    "    affected_resource: str = Field(..., description=\"Name of the resource experiencing the issue\")\n",
    "    evidence: str = Field(..., description=\"Evidence supporting this symptom identification\")\n",
    "\n",
    "class SymptomList(BaseModel):\n",
    "    \"\"\"\n",
    "    A list of symptoms observed in the Kubernetes cluster\n",
    "    \"\"\"\n",
    "    symptoms: List[Symptom] = Field(default_factory=list, description=\"List of symptoms observed in the cluster\")"
   ]
  },
  {
   "cell_type": "code",
   "execution_count": null,
   "id": "868c347c",
   "metadata": {},
   "outputs": [],
   "source": [
    "from langchain_openai import ChatOpenAI\n",
    "\n",
    "gpt5mini = ChatOpenAI(model=\"gpt-5-mini\")\n",
    "\n",
    "llm_for_symptoms = gpt5mini.with_structured_output(SymptomList)"
   ]
  },
  {
   "cell_type": "code",
   "execution_count": null,
   "id": "97ae79e5",
   "metadata": {},
   "outputs": [],
   "source": [
    "import json\n",
    "from langchain_core.prompts import ChatPromptTemplate\n",
    "\n",
    "app_summary = \"The application is a hotel reservation system with a microservices architecture. The 'frontend' service is the entry point for user requests.\"\n",
    "\n",
    "prompt_template = ChatPromptTemplate.from_messages(\n",
    "    [\n",
    "        (\n",
    "            \"system\",\n",
    "            \"\"\"You are an expert Site Reliability Engineer. Your mission is to triage a Kubernetes application by analyzing the provided data.\n",
    "\n",
    "Your analysis must adhere to the following rules:\n",
    "1.  **Focus**: Identify symptoms at the **pod or service level only**. Do not provide cluster-wide analysis or generalizations.\n",
    "2.  **Aggregation**: For each pod or service that has issues, create **at most one symptom entry**. Aggregate all related evidence (from pods, metrics, traces) into that single entry.\n",
    "3.  **Action**: Synthesize the information to identify and list potential symptoms. For each symptom, pinpoint the affected resource (pod or service) and cite the specific evidence.\n",
    "4.  **Empty State**: If the provided data contains no issues, it is correct to return an empty list of symptoms.\"\"\",\n",
    "        ),\n",
    "        (\"human\", \"{human_input}\"),\n",
    "    ]\n",
    ")"
   ]
  },
  {
   "cell_type": "code",
   "execution_count": null,
   "id": "4497b57c",
   "metadata": {},
   "outputs": [],
   "source": [
    "def triage_agent(state: TriageAgentState):\n",
    "    human_prompt_parts = [\n",
    "    f\"Please analyze the following triage data for the {state[\"app_name\"]} application.\\n\\n### Application Summary\\n{state[\"app_summary\"]}\"\n",
    "    ]\n",
    "\n",
    "    if \"info\" not in state[\"problematic_pods\"]:\n",
    "        problematic_pods_str = json.dumps(state[\"problematic_pods\"], indent=2)\n",
    "        human_prompt_parts.append(f\"### Problematic Pods\\n```json\\n{problematic_pods_str}\\n```\")\n",
    "\n",
    "    if \"info\" not in state[\"problematic_metrics\"]:\n",
    "        problematic_metrics_str = json.dumps(state[\"problematic_metrics\"], indent=2)\n",
    "        human_prompt_parts.append(f\"### Anomalous Pod Metrics\\n```json\\n{problematic_metrics_str}\\n```\")\n",
    "\n",
    "    if \"info\" not in state[\"problematic_traces\"] and \"error\" not in state[\"problematic_traces\"]:\n",
    "        problematic_traces_str = json.dumps(state[\"problematic_traces\"], indent=2)\n",
    "        human_prompt_parts.append(f\"### Error Traces\\n```json\\n{problematic_traces_str}\\n```\")\n",
    "\n",
    "    if \"info\" not in state[\"slow_traces\"] and \"error\" not in state[\"slow_traces\"]:\n",
    "        slow_traces_str = json.dumps(state[\"slow_traces\"], indent=2)\n",
    "        human_prompt_parts.append(f\"### Slow Traces\\n```json\\n{slow_traces_str}\\n```\")\n",
    "    \n",
    "    # If no problems were found in any dataset, add a note.\n",
    "    if len(human_prompt_parts) == 1:\n",
    "        human_prompt_parts.append(\"No issues were found in pods, metrics, or traces.\")\n",
    "\n",
    "    human_input = \"\\n\\n\".join(human_prompt_parts)\n",
    "\n",
    "    triage_chain = prompt_template | llm_for_symptoms\n",
    "\n",
    "    symptom_list = triage_chain.invoke({\n",
    "        \"human_input\" : human_input\n",
    "    })\n",
    "\n",
    "    return {\"potential_symptoms\" : symptom_list}"
   ]
  },
  {
   "cell_type": "code",
   "execution_count": null,
   "id": "281e6b59",
   "metadata": {},
   "outputs": [],
   "source": [
    "from langgraph.graph import START, END, StateGraph\n",
    "from IPython.display import Image, display\n",
    "\n",
    "# Build the graph\n",
    "builder = StateGraph(TriageAgentState)\n",
    "\n",
    "# Add nodes\n",
    "builder.add_node(\"gather-triage-data\", get_triage_data)\n",
    "builder.add_node(\"triage-agent\", triage_agent)\n",
    "\n",
    "# Add edges\n",
    "builder.add_edge(START,\"gather-triage-data\")\n",
    "builder.add_edge(\"gather-triage-data\", \"triage-agent\")\n",
    "builder.add_edge(\"triage-agent\", END)\n",
    "\n",
    "triage_agent = builder.compile()\n",
    "\n",
    "display(Image(triage_agent.get_graph(xray=True).draw_mermaid_png()))"
   ]
  },
  {
   "cell_type": "code",
   "execution_count": null,
   "id": "d87cb14c",
   "metadata": {},
   "outputs": [],
   "source": [
    "import time\n",
    "\n",
    "def run_triage_agent(graph, app_summary:str, target_namespace: str, trace_service_starting_point: str, trace_name: str | None = None):\n",
    "    \"\"\"Test the structured graph with SREAgentState\"\"\"\n",
    "    # Create initial state with SREAgentState structure\n",
    "    initial_state = {\n",
    "        \"app_name\" : \"Hotel reservation\",\n",
    "        \"app_summary\" : app_summary,\n",
    "        \"target_namespace\": target_namespace,\n",
    "        \"trace_service_starting_point\": trace_service_starting_point,\n",
    "        \"problematic_pods\": {},\n",
    "        \"problematic_traces\": {},\n",
    "        \"slow_traces\": {},\n",
    "        \"problematic_metrics\": {},\n",
    "        \"potential_symptoms\": []\n",
    "    }\n",
    "    \n",
    "    # Start time tracking\n",
    "    start_time = time.time()\n",
    "\n",
    "    # Configuration for the graph execution\n",
    "    config = {\"recursion_limit\": 50}\n",
    "    if trace_name:\n",
    "        config[\"run_name\"] = trace_name # type: ignore\n",
    "    \n",
    "    # Invoke the graph\n",
    "    symptoms = graph.invoke(initial_state, config)\n",
    "\n",
    "    # Calculate execution time\n",
    "    execution_time = time.time() - start_time\n",
    "\n",
    "    return symptoms, execution_time"
   ]
  },
  {
   "cell_type": "code",
   "execution_count": null,
   "id": "e9d3d4f7",
   "metadata": {},
   "outputs": [],
   "source": [
    "experiment_name = input(\"Enter experiment name: \")\n",
    "\n",
    "if experiment_name.strip() == \"\":\n",
    "    experiment_name = \"Triage agent\""
   ]
  },
  {
   "cell_type": "code",
   "execution_count": null,
   "id": "03ef9f5a",
   "metadata": {},
   "outputs": [],
   "source": [
    "app_summary = \"\"\"\n",
    "    The application implements a hotel reservation service, build with Go and gRPC. The initial project is extended in several ways, including adding back-end in-memory and persistent databases, adding a recommender system for obtaining hotel recommendations, and adding the functionality to place a hotel reservation. \n",
    "\"\"\"\n",
    "target_namespace = \"test-hotel-reservation\"\n",
    "service_starting_point = \"frontend\""
   ]
  },
  {
   "cell_type": "code",
   "execution_count": null,
   "id": "51f21cf4",
   "metadata": {},
   "outputs": [],
   "source": [
    "final_state, execTime = run_triage_agent(\n",
    "    graph=triage_agent,\n",
    "    app_summary=app_summary,\n",
    "    target_namespace=target_namespace,\n",
    "    trace_service_starting_point=service_starting_point,\n",
    "    trace_name=experiment_name\n",
    ")"
   ]
  },
  {
   "cell_type": "code",
   "execution_count": null,
   "id": "ef44dc40",
   "metadata": {},
   "outputs": [],
   "source": [
    "potential_symptoms = final_state[\"potential_symptoms\"].symptoms\n",
    "\n",
    "for i, symptom in enumerate(potential_symptoms):\n",
    "    print(f\"\\n ### Symptom {i+1} ###\\nPotential symptom: {symptom.potential_symptom}\\nAffected {symptom.resource_type}: {symptom.affected_resource}\\nEvidence: {symptom.evidence}\\n\")"
   ]
  }
 ],
 "metadata": {
  "kernelspec": {
   "display_name": "sre-agent-35UqMg2y-py3.13",
   "language": "python",
   "name": "python3"
  },
  "language_info": {
   "codemirror_mode": {
    "name": "ipython",
    "version": 3
   },
   "file_extension": ".py",
   "mimetype": "text/x-python",
   "name": "python",
   "nbconvert_exporter": "python",
   "pygments_lexer": "ipython3",
   "version": "3.13.7"
  }
 },
 "nbformat": 4,
 "nbformat_minor": 5
}
