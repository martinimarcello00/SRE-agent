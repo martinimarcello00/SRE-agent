{
 "cells": [
  {
   "cell_type": "markdown",
   "id": "45671888",
   "metadata": {},
   "source": [
    "# Triage data gathering\n",
    "\n",
    "- **Pod Status Check**:\n",
    "    - `Tool`: `K8sAPI.get_problematic_pods()`\n",
    "    - `Output`: Pods with pending states, container errors, high restarts (>3)\n",
    "- **Trace Analysis**:\n",
    "    - `Tool`: `JaegerAPI.get_processed_traces()` and `JaegerAPI.get_slow_traces()`\n",
    "    - `Output`: Traces with errors or high latency, including service sequences\n",
    "- **Metrics Analysis**:\n",
    "    - `Tool`: `PrometheusAPI.get_pod_triage_metrics()`\n",
    "    - `Output`: Pods with thread saturation (>95%), high CPU load (>10.0), or network errors"
   ]
  },
  {
   "cell_type": "code",
   "execution_count": null,
   "id": "ce38645c",
   "metadata": {},
   "outputs": [],
   "source": [
    "from dotenv import load_dotenv\n",
    "import os\n",
    "# Get the path to the root directory of the repository\n",
    "root_dir = os.path.abspath(os.path.join(os.getcwd(), '../..'))\n",
    "\n",
    "# Load environment variables from .env file in the root directory\n",
    "load_dotenv(os.path.join(root_dir, '.env'))"
   ]
  },
  {
   "cell_type": "code",
   "execution_count": null,
   "id": "fae79f02",
   "metadata": {},
   "outputs": [],
   "source": [
    "import sys\n",
    "\n",
    "# Add MCP-server to path\n",
    "mcp_server_path = os.path.abspath(os.path.join(os.getcwd(), '../../MCP-server'))\n",
    "sys.path.insert(0, mcp_server_path)"
   ]
  },
  {
   "cell_type": "markdown",
   "id": "f9564c7e",
   "metadata": {},
   "source": [
    "### Kubernetes API\n",
    "\n",
    "The `get_problematic_pods()` method identifies unhealthy pods in a Kubernetes namespace using four key heuristics:\n",
    "\n",
    "1. **Pod Pending State**\n",
    "- **Detection**: Pod is stuck in `Pending` phase with no container statuses\n",
    "- **Meaning**: The pod cannot be scheduled or is waiting for resources\n",
    "- **Common causes**: Insufficient cluster resources (CPU/memory), node selector mismatches, persistent volume issues, or scheduling constraints\n",
    "\n",
    "2. **Container Waiting State**\n",
    "- **Detection**: Container is in a `Waiting` state (not yet running)\n",
    "- **Meaning**: The container cannot start properly\n",
    "- **Common causes**: \n",
    "  - `ImagePullBackOff`: Cannot pull the container image (authentication, wrong tag, or network issues)\n",
    "  - `CrashLoopBackOff`: Container starts but immediately crashes\n",
    "  - `CreateContainerError`: Error creating the container runtime\n",
    "\n",
    "3. **Container Terminated with Error**\n",
    "- **Detection**: Container terminated with non-zero exit code\n",
    "- **Meaning**: The container exited abnormally\n",
    "- **Common causes**: Application crash, failed health checks, out of memory (OOMKilled), or configuration errors\n",
    "- **Captures**: Exit code, reason, message, and restart count\n",
    "\n",
    "4. **High Restart Count (Crash Loop)**\n",
    "- **Detection**: Container has restarted more than 3 times\n",
    "- **Threshold**: `restart_count > 3` (filters out transient single restarts)\n",
    "- **Meaning**: Container is repeatedly crashing and restarting\n",
    "- **Common causes**: Application bugs, missing dependencies, memory leaks, or failed liveness probes\n",
    "- **Note**: Can appear even when container state is \"Running\" (between crashes)"
   ]
  },
  {
   "cell_type": "code",
   "execution_count": null,
   "id": "1d90f43a",
   "metadata": {},
   "outputs": [],
   "source": [
    "from api.k8s_api import K8sAPI\n",
    "# Get kubernetes problematic pods\n",
    "k8s_api = K8sAPI()\n",
    "\n",
    "# Get all services and pods\n",
    "services = k8s_api.get_services_list()\n",
    "pods = k8s_api.get_pods_list()\n",
    "\n",
    "problematic_pods = k8s_api.get_problematic_pods()"
   ]
  },
  {
   "cell_type": "code",
   "execution_count": null,
   "id": "11f9f4e1",
   "metadata": {},
   "outputs": [],
   "source": [
    "problematic_pods"
   ]
  },
  {
   "cell_type": "markdown",
   "id": "2fae5b61",
   "metadata": {},
   "source": [
    "### Jaeger API (traces analysis)\n",
    "\n",
    "The Jaeger API provides methods to identify problematic traces using server-side filtering for efficiency.\n",
    "\n",
    "**1. `get_processed_traces(service, only_errors=False)`**\n",
    "Returns all traces for a service with optional error filtering.\n",
    "\n",
    "**2. `get_slow_traces(service, min_duration_ms, only_errors=False)`**\n",
    "Returns only traces exceeding a latency threshold, sorted by slowest first."
   ]
  },
  {
   "cell_type": "code",
   "execution_count": null,
   "id": "27a2631c",
   "metadata": {},
   "outputs": [],
   "source": [
    "from api.jaeger_api import JaegerAPI\n",
    "\n",
    "# Get traces which present delays or errors\n",
    "jaeger_api = JaegerAPI()\n",
    "\n",
    "# Traces which have errors\n",
    "problematic_traces = jaeger_api.get_processed_traces(service=\"frontend\", only_errors=True)\n",
    "\n",
    "# Filtern for traces whxich take more than 2 seconds\n",
    "slow_traces = jaeger_api.get_slow_traces(service=\"frontend\", min_duration_ms=2000)"
   ]
  },
  {
   "cell_type": "code",
   "execution_count": null,
   "id": "45ae34d4",
   "metadata": {},
   "outputs": [],
   "source": [
    "problematic_traces"
   ]
  },
  {
   "cell_type": "code",
   "execution_count": null,
   "id": "c8726b66",
   "metadata": {},
   "outputs": [],
   "source": [
    "slow_traces"
   ]
  },
  {
   "cell_type": "markdown",
   "id": "ecc7e06a",
   "metadata": {},
   "source": [
    "### Prometheus API (Metrics Analysis)\n",
    "\n",
    "The Prometheus API provides methods to analyze pod health using resource metrics and detect anomalies.\n",
    "\n",
    "**`get_pod_triage_metrics(pod_name)`**\n",
    "Performs a simple triage based on universal, instant metrics without requiring pod resource specifications.\n",
    "\n",
    "**Heuristics:**\n",
    "\n",
    "**1. Thread Saturation**\n",
    "- **Detection**: `container_threads / container_threads_max > 0.95`\n",
    "- **Threshold**: 95% of maximum threads\n",
    "- **Meaning**: The container is running out of available threads\n",
    "- **Impact**: Application may hang, reject new requests, or crash\n",
    "\n",
    "**2. High CPU Load**\n",
    "- **Detection**: `container_cpu_load_average_10s > 10.0`\n",
    "- **Threshold**: CPU load average exceeds 10.0 over 10 seconds\n",
    "- **Meaning**: The CPU is likely saturated and struggling to keep up with demand\n",
    "- **Impact**: High latency, slow response times, request timeouts\n",
    "\n",
    "\n",
    "**3. Network Errors & Packet Drops**\n",
    "- **Detection**: Any of the following metrics > 1:\n",
    "  - `container_network_receive_errors_total`: Network receive errors\n",
    "  - `container_network_transmit_errors_total`: Network transmit errors\n",
    "  - `container_network_receive_packets_dropped_total`: Dropped received packets\n",
    "  - `container_network_transmit_packets_dropped_total`: Dropped transmitted packets\n",
    "- **Threshold**: More than 1 occurrence during pod lifetime\n",
    "- **Meaning**: The pod has experienced network connectivity issues\n",
    "- **Impact**: Request failures, data loss, connectivity problems"
   ]
  },
  {
   "cell_type": "code",
   "execution_count": null,
   "id": "fc21dfd2",
   "metadata": {},
   "outputs": [],
   "source": [
    "from api.prometheus_api import PrometheusAPI\n",
    "\n",
    "# Get metrics for each pod\n",
    "prometheus_api = PrometheusAPI()\n",
    "\n",
    "problematic_pods_metrics = []\n",
    "\n",
    "for pod in pods:\n",
    "    triage_metric_report = prometheus_api.get_pod_triage_metrics(pod)\n",
    "    if triage_metric_report[\"is_anomalous\"]:\n",
    "        problematic_pods_metrics.append(triage_metric_report)"
   ]
  },
  {
   "cell_type": "code",
   "execution_count": null,
   "id": "4a13fdde",
   "metadata": {},
   "outputs": [],
   "source": [
    "problematic_pods_metrics"
   ]
  }
 ],
 "metadata": {
  "kernelspec": {
   "display_name": "sre-agent-35UqMg2y-py3.13",
   "language": "python",
   "name": "python3"
  },
  "language_info": {
   "codemirror_mode": {
    "name": "ipython",
    "version": 3
   },
   "file_extension": ".py",
   "mimetype": "text/x-python",
   "name": "python",
   "nbconvert_exporter": "python",
   "pygments_lexer": "ipython3",
   "version": "3.13.7"
  }
 },
 "nbformat": 4,
 "nbformat_minor": 5
}
