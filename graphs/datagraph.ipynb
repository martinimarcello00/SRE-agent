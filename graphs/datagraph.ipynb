{
 "cells": [
  {
   "cell_type": "markdown",
   "id": "3a68174a",
   "metadata": {},
   "source": [
    "# DataGraph"
   ]
  },
  {
   "cell_type": "code",
   "execution_count": 49,
   "id": "eab37dff",
   "metadata": {},
   "outputs": [
    {
     "data": {
      "text/plain": [
       "True"
      ]
     },
     "execution_count": 49,
     "metadata": {},
     "output_type": "execute_result"
    }
   ],
   "source": [
    "import os\n",
    "from dotenv import load_dotenv\n",
    "from datagraph import DataGraph\n",
    "\n",
    "load_dotenv()"
   ]
  },
  {
   "cell_type": "code",
   "execution_count": 50,
   "id": "06871a66",
   "metadata": {},
   "outputs": [],
   "source": [
    "datagraph = DataGraph(\n",
    "    uri = str(os.environ.get(\"NEO4J_URI\")),\n",
    "    username= str(os.environ.get(\"NEO4J_USERNAME\")),\n",
    "    pw= str(os.environ.get(\"NEO4J_PW\"))\n",
    ")"
   ]
  },
  {
   "cell_type": "code",
   "execution_count": 51,
   "id": "a3107c36",
   "metadata": {},
   "outputs": [
    {
     "name": "stdout",
     "output_type": "stream",
     "text": [
      "Response content: [{'name': 'frontend'}, {'name': 'user'}, {'name': 'recommendation'}, {'name': 'profile'}, {'name': 'search'}, {'name': 'reservation'}, {'name': 'geo'}, {'name': 'rate'}]\n"
     ]
    }
   ],
   "source": [
    "# Query the database and store the response\n",
    "response = datagraph.query(\"MATCH (s:Service) RETURN s.name as name\")\n",
    "\n",
    "# Display the response to see what we got\n",
    "print(\"Response content:\", response)"
   ]
  },
  {
   "cell_type": "code",
   "execution_count": 52,
   "id": "25902330",
   "metadata": {},
   "outputs": [
    {
     "data": {
      "text/plain": [
       "['frontend',\n",
       " 'user',\n",
       " 'recommendation',\n",
       " 'profile',\n",
       " 'search',\n",
       " 'reservation',\n",
       " 'geo',\n",
       " 'rate']"
      ]
     },
     "execution_count": 52,
     "metadata": {},
     "output_type": "execute_result"
    }
   ],
   "source": [
    "datagraph.get_services()"
   ]
  },
  {
   "cell_type": "code",
   "execution_count": 53,
   "id": "4a254c97",
   "metadata": {},
   "outputs": [
    {
     "ename": "AttributeError",
     "evalue": "'DataGraph' object has no attribute 'get_connected_services'",
     "output_type": "error",
     "traceback": [
      "\u001b[31m---------------------------------------------------------------------------\u001b[39m",
      "\u001b[31mAttributeError\u001b[39m                            Traceback (most recent call last)",
      "\u001b[36mCell\u001b[39m\u001b[36m \u001b[39m\u001b[32mIn[53]\u001b[39m\u001b[32m, line 1\u001b[39m\n\u001b[32m----> \u001b[39m\u001b[32m1\u001b[39m \u001b[43mdatagraph\u001b[49m\u001b[43m.\u001b[49m\u001b[43mget_connected_services\u001b[49m(\u001b[33m\"\u001b[39m\u001b[33mfrontend\u001b[39m\u001b[33m\"\u001b[39m)\n",
      "\u001b[31mAttributeError\u001b[39m: 'DataGraph' object has no attribute 'get_connected_services'"
     ]
    }
   ],
   "source": [
    "datagraph.get_connected_services(\"frontend\")"
   ]
  }
 ],
 "metadata": {
  "kernelspec": {
   "display_name": "sre-agent-35UqMg2y-py3.13",
   "language": "python",
   "name": "python3"
  },
  "language_info": {
   "codemirror_mode": {
    "name": "ipython",
    "version": 3
   },
   "file_extension": ".py",
   "mimetype": "text/x-python",
   "name": "python",
   "nbconvert_exporter": "python",
   "pygments_lexer": "ipython3",
   "version": "3.13.7"
  }
 },
 "nbformat": 4,
 "nbformat_minor": 5
}
