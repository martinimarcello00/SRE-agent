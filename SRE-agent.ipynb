{
 "cells": [
  {
   "cell_type": "markdown",
   "id": "7884748a",
   "metadata": {},
   "source": [
    "# SRE Agent"
   ]
  },
  {
   "cell_type": "code",
   "execution_count": 3,
   "id": "ee3b963f",
   "metadata": {},
   "outputs": [
    {
     "data": {
      "text/plain": [
       "True"
      ]
     },
     "execution_count": 3,
     "metadata": {},
     "output_type": "execute_result"
    }
   ],
   "source": [
    "from dotenv import load_dotenv\n",
    "load_dotenv()"
   ]
  },
  {
   "cell_type": "code",
   "execution_count": 7,
   "id": "d85aae02",
   "metadata": {},
   "outputs": [],
   "source": [
    "from langchain_openai import ChatOpenAI\n",
    "gpt5 = ChatOpenAI(model=\"gpt-5\")"
   ]
  },
  {
   "cell_type": "markdown",
   "id": "78b12579",
   "metadata": {},
   "source": [
    "## Data structure"
   ]
  },
  {
   "cell_type": "code",
   "execution_count": 9,
   "id": "f6dbd354",
   "metadata": {},
   "outputs": [],
   "source": [
    "from typing import TypedDict, List, Literal, Optional\n",
    "\n",
    "# Kubernetes problem\n",
    "class K8SProblem(TypedDict):\n",
    "    \"\"\"Represents a Kubernetes problem.\"\"\"\n",
    "    type: Literal[\"symptom\", \"root_cause\"]\n",
    "    resource: str\n",
    "    namespace: str\n",
    "    issue: str\n",
    "    description: str\n",
    "    fix_suggestion: str\n",
    "\n",
    "# Agent state\n",
    "class AgentState(TypedDict):\n",
    "    status: Literal[\"investigating\", \"found_issue\", \"completed\"] # Used to manage the agent's flow\n",
    "    problems_found: List[K8SProblem]\n",
    "    suggestions: List[str]\n",
    "    investigation_steps: List[str]"
   ]
  },
  {
   "cell_type": "markdown",
   "id": "ca030bf7",
   "metadata": {},
   "source": [
    "## Investigation steps\n",
    "\n",
    "1. **Discover Phase**: Inspect the K8s cluster, find all problems across namespaces using K8S MCP server\n",
    "2. **Filter Phase**: Identify which problems are symptoms vs root causes  \n",
    "3. **Focus Phase**: Deep-dive into the main problematic resource using K8S MCP server\n",
    "4. **Diagnose Phase**: Determine the single root cause of the issue\n",
    "5. **Report Phase**: Output final diagnosis with clear fix for THE problem"
   ]
  },
  {
   "cell_type": "code",
   "execution_count": null,
   "id": "12ca38cf",
   "metadata": {},
   "outputs": [],
   "source": [
    "def initialize_agent_state() -> AgentState:\n",
    "    return {\n",
    "        \"status\": \"investigating\",\n",
    "        \"problems_found\": [],\n",
    "        \"suggestions\": [],\n",
    "        \"investigation_steps\": []\n",
    "    }"
   ]
  }
 ],
 "metadata": {
  "kernelspec": {
   "display_name": "SRE Agent",
   "language": "python",
   "name": "sre-agent"
  },
  "language_info": {
   "codemirror_mode": {
    "name": "ipython",
    "version": 3
   },
   "file_extension": ".py",
   "mimetype": "text/x-python",
   "name": "python",
   "nbconvert_exporter": "python",
   "pygments_lexer": "ipython3",
   "version": "3.13.5"
  }
 },
 "nbformat": 4,
 "nbformat_minor": 5
}
